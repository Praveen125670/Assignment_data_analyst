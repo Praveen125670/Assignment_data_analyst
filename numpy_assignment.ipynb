{
 "cells": [
  {
   "cell_type": "code",
   "execution_count": 1,
   "metadata": {},
   "outputs": [],
   "source": [
    "import numpy as np"
   ]
  },
  {
   "cell_type": "code",
   "execution_count": 2,
   "metadata": {},
   "outputs": [
    {
     "data": {
      "text/plain": [
       "dtype('int32')"
      ]
     },
     "execution_count": 2,
     "metadata": {},
     "output_type": "execute_result"
    }
   ],
   "source": [
    "## Q1\n",
    "arr1 = np.array([0,1,2,3,4,5])\n",
    "arr1\n",
    "arr1.dtype"
   ]
  },
  {
   "cell_type": "code",
   "execution_count": 3,
   "metadata": {},
   "outputs": [
    {
     "data": {
      "text/plain": [
       "dtype('float64')"
      ]
     },
     "execution_count": 3,
     "metadata": {},
     "output_type": "execute_result"
    }
   ],
   "source": [
    "## Q2.\n",
    "arr2 = np.array([1.5, 2.6, 3.7])\n",
    "arr2.dtype"
   ]
  },
  {
   "cell_type": "code",
   "execution_count": 4,
   "metadata": {},
   "outputs": [
    {
     "data": {
      "text/plain": [
       "dtype('complex128')"
      ]
     },
     "execution_count": 4,
     "metadata": {},
     "output_type": "execute_result"
    }
   ],
   "source": [
    "## Q3.\n",
    "arr3 = np.array([4+5j,2-5j,5+6j])\n",
    "arr3.dtype"
   ]
  },
  {
   "cell_type": "code",
   "execution_count": 5,
   "metadata": {},
   "outputs": [
    {
     "data": {
      "text/plain": [
       "dtype('float32')"
      ]
     },
     "execution_count": 5,
     "metadata": {},
     "output_type": "execute_result"
    }
   ],
   "source": [
    "## Q4.\n",
    "arr4 = arr1.astype(np.float32)\n",
    "arr4.dtype"
   ]
  },
  {
   "cell_type": "code",
   "execution_count": 6,
   "metadata": {},
   "outputs": [
    {
     "data": {
      "text/plain": [
       "dtype('float32')"
      ]
     },
     "execution_count": 6,
     "metadata": {},
     "output_type": "execute_result"
    }
   ],
   "source": [
    "## Q5.\n",
    "arr5 = arr2.astype(np.float32)\n",
    "arr5.dtype"
   ]
  },
  {
   "cell_type": "code",
   "execution_count": 7,
   "metadata": {},
   "outputs": [
    {
     "data": {
      "text/plain": [
       "((3,), 3, dtype('int32'))"
      ]
     },
     "execution_count": 7,
     "metadata": {},
     "output_type": "execute_result"
    }
   ],
   "source": [
    "## Q6.\n",
    "def array_attributes(arr):\n",
    "    return arr.shape, arr.size, arr.dtype\n",
    "\n",
    "arr = np.array([1, 2, 3])\n",
    "array_attributes(arr)\n"
   ]
  },
  {
   "cell_type": "code",
   "execution_count": 8,
   "metadata": {},
   "outputs": [
    {
     "data": {
      "text/plain": [
       "2"
      ]
     },
     "execution_count": 8,
     "metadata": {},
     "output_type": "execute_result"
    }
   ],
   "source": [
    "## Q7.\n",
    "def array_dimension(arr):\n",
    "    return arr.ndim\n",
    "\n",
    "arr = np.array([[1, 2, 3]])\n",
    "array_dimension(arr)\n"
   ]
  },
  {
   "cell_type": "code",
   "execution_count": 9,
   "metadata": {},
   "outputs": [
    {
     "data": {
      "text/plain": [
       "(4, 12)"
      ]
     },
     "execution_count": 9,
     "metadata": {},
     "output_type": "execute_result"
    }
   ],
   "source": [
    "## Q8.\n",
    "def item_size_info(arr):\n",
    "    return arr.itemsize, arr.nbytes #nbytes = arr.itemsize * arr.size (4*3=12)\n",
    "\n",
    "arr = np.array([1,2,3])\n",
    "item_size_info(arr)"
   ]
  },
  {
   "cell_type": "code",
   "execution_count": 10,
   "metadata": {},
   "outputs": [
    {
     "data": {
      "text/plain": [
       "(8,)"
      ]
     },
     "execution_count": 10,
     "metadata": {},
     "output_type": "execute_result"
    }
   ],
   "source": [
    "## Q9.\n",
    "def array_strides(arr):\n",
    "    return arr.strides\n",
    "# Strides: In NumPy, strides represent the number of bytes that need to be \n",
    "# skipped in memory to move to the next element along each dimension of the array. \n",
    "\n",
    "arr = np.array([1.5, 2.6, 3.7])\n",
    "array_strides(arr)\n"
   ]
  },
  {
   "cell_type": "code",
   "execution_count": 11,
   "metadata": {},
   "outputs": [
    {
     "data": {
      "text/plain": [
       "((3,), (4,))"
      ]
     },
     "execution_count": 11,
     "metadata": {},
     "output_type": "execute_result"
    }
   ],
   "source": [
    "## Q10.\n",
    "def shape_strides(arr):\n",
    "    return arr.shape, arr.strides\n",
    "\n",
    "arr = np.array([1, 2, 3])\n",
    "shape_strides(arr)\n"
   ]
  },
  {
   "cell_type": "code",
   "execution_count": 12,
   "metadata": {},
   "outputs": [
    {
     "data": {
      "text/plain": [
       "((3,), (8,))"
      ]
     },
     "execution_count": 12,
     "metadata": {},
     "output_type": "execute_result"
    }
   ],
   "source": [
    "def shape_strides(arr):\n",
    "    return arr.shape, arr.strides\n",
    "\n",
    "arr = np.array([1.5, 2.6, 3.7])\n",
    "shape_strides(arr)"
   ]
  },
  {
   "cell_type": "code",
   "execution_count": 13,
   "metadata": {},
   "outputs": [],
   "source": [
    "## Q11.\n",
    "def create_zeros_array(n):\n",
    "    arr = np.zeros(n)\n",
    "    return arr"
   ]
  },
  {
   "cell_type": "code",
   "execution_count": 14,
   "metadata": {},
   "outputs": [
    {
     "data": {
      "text/plain": [
       "array([0., 0., 0., 0., 0., 0.])"
      ]
     },
     "execution_count": 14,
     "metadata": {},
     "output_type": "execute_result"
    }
   ],
   "source": [
    "create_zeros_array(6)"
   ]
  },
  {
   "cell_type": "code",
   "execution_count": 15,
   "metadata": {},
   "outputs": [],
   "source": [
    "## Q12.\n",
    "def create_ones_matrix(n):\n",
    "    arr = np.ones(n)\n",
    "    return arr"
   ]
  },
  {
   "cell_type": "code",
   "execution_count": 16,
   "metadata": {},
   "outputs": [
    {
     "data": {
      "text/plain": [
       "array([[1., 1., 1., 1.],\n",
       "       [1., 1., 1., 1.]])"
      ]
     },
     "execution_count": 16,
     "metadata": {},
     "output_type": "execute_result"
    }
   ],
   "source": [
    "create_ones_matrix((2,4))"
   ]
  },
  {
   "cell_type": "code",
   "execution_count": 17,
   "metadata": {},
   "outputs": [
    {
     "data": {
      "text/plain": [
       "array([1, 3, 5, 7, 9])"
      ]
     },
     "execution_count": 17,
     "metadata": {},
     "output_type": "execute_result"
    }
   ],
   "source": [
    "## Q13.\n",
    "def generate_range_array(s1,s2,s3):\n",
    "    arr = np.arange(s1,s2,s3)\n",
    "    return arr\n",
    "\n",
    "generate_range_array(1,10,2)"
   ]
  },
  {
   "cell_type": "code",
   "execution_count": 18,
   "metadata": {},
   "outputs": [
    {
     "data": {
      "text/plain": [
       "array([1.        , 1.36363636, 1.72727273, 2.09090909, 2.45454545,\n",
       "       2.81818182, 3.18181818, 3.54545455, 3.90909091, 4.27272727,\n",
       "       4.63636364, 5.        ])"
      ]
     },
     "execution_count": 18,
     "metadata": {},
     "output_type": "execute_result"
    }
   ],
   "source": [
    "## Q14.\n",
    "def generate_linear_space(s1,s2,n):\n",
    "    arr = np.linspace(s1,s2,n)\n",
    "    return arr\n",
    "\n",
    "generate_linear_space(1,5,12)"
   ]
  },
  {
   "cell_type": "code",
   "execution_count": 19,
   "metadata": {},
   "outputs": [
    {
     "data": {
      "text/plain": [
       "array([[1., 0., 0., 0.],\n",
       "       [0., 1., 0., 0.],\n",
       "       [0., 0., 1., 0.],\n",
       "       [0., 0., 0., 1.]])"
      ]
     },
     "execution_count": 19,
     "metadata": {},
     "output_type": "execute_result"
    }
   ],
   "source": [
    "## Q15.\n",
    "def  create_identity_matrix(n):\n",
    "    arr = np.eye(n)\n",
    "    return arr\n",
    "\n",
    "create_identity_matrix(4)"
   ]
  },
  {
   "cell_type": "code",
   "execution_count": 20,
   "metadata": {},
   "outputs": [
    {
     "data": {
      "text/plain": [
       "array(['1', '3', 'arun', '4j'], dtype='<U11')"
      ]
     },
     "execution_count": 20,
     "metadata": {},
     "output_type": "execute_result"
    }
   ],
   "source": [
    "## Q16.\n",
    "def list_convert(n):\n",
    "    return np.array(n) \n",
    "\n",
    "list_convert([1,3,'arun','4j'])"
   ]
  },
  {
   "cell_type": "code",
   "execution_count": 21,
   "metadata": {},
   "outputs": [
    {
     "name": "stdout",
     "output_type": "stream",
     "text": [
      "Original Array [0 1 2 3 4 5 6 7 8 9]\n",
      "View Array [0 1 2 3 4 5 6 7 8 9]\n"
     ]
    }
   ],
   "source": [
    "## Q17.\n",
    "original_array = np.arange(10)\n",
    "view_array = original_array.view()\n",
    "\n",
    "print('Original Array',original_array)\n",
    "print('View Array',view_array)"
   ]
  },
  {
   "cell_type": "code",
   "execution_count": 22,
   "metadata": {},
   "outputs": [
    {
     "name": "stdout",
     "output_type": "stream",
     "text": [
      "Original Array after modification [99  1  2  3  4  5  6  7  8  9]\n",
      "View Array after modification [99  1  2  3  4  5  6  7  8  9]\n"
     ]
    }
   ],
   "source": [
    "view_array[0] = 99\n",
    "print('Original Array after modification',original_array)\n",
    "print('View Array after modification',view_array)"
   ]
  },
  {
   "cell_type": "code",
   "execution_count": 23,
   "metadata": {},
   "outputs": [],
   "source": [
    "## Q18.\n",
    "def array_concatenate(n1,n2,axis):\n",
    "    arr1 = np.array(n1)\n",
    "    arr2 = np.array(n2)\n",
    "    return np.concatenate((arr1,arr2),axis=axis)\n"
   ]
  },
  {
   "cell_type": "code",
   "execution_count": 24,
   "metadata": {},
   "outputs": [
    {
     "data": {
      "text/plain": [
       "array([[ 1,  2,  3],\n",
       "       [ 4,  5,  6],\n",
       "       [ 7,  8,  9],\n",
       "       [10, 11, 12]])"
      ]
     },
     "execution_count": 24,
     "metadata": {},
     "output_type": "execute_result"
    }
   ],
   "source": [
    "array_concatenate([[1,2,3],[4,5,6]],[[7,8,9],[10,11,12]],0)"
   ]
  },
  {
   "cell_type": "code",
   "execution_count": 25,
   "metadata": {},
   "outputs": [
    {
     "data": {
      "text/plain": [
       "array([[ 1,  2,  3,  7,  8,  9],\n",
       "       [ 4,  5,  6, 10, 11, 12]])"
      ]
     },
     "execution_count": 25,
     "metadata": {},
     "output_type": "execute_result"
    }
   ],
   "source": [
    "array_concatenate([[1,2,3],[4,5,6]],[[7,8,9],[10,11,12]],1)"
   ]
  },
  {
   "cell_type": "code",
   "execution_count": 26,
   "metadata": {},
   "outputs": [
    {
     "data": {
      "text/plain": [
       "array([[ 2,  8,  6,  3],\n",
       "       [ 4,  8,  6,  9],\n",
       "       [15, 15, 17, 16],\n",
       "       [12, 12, 15, 12],\n",
       "       [19, 15, 14, 13]])"
      ]
     },
     "execution_count": 26,
     "metadata": {},
     "output_type": "execute_result"
    }
   ],
   "source": [
    "## Q19.\n",
    "arr1 = np.random.randint(0,10,(2,4))\n",
    "arr2 = np.random.randint(10,20,(3,4))\n",
    "\n",
    "concat = np.concatenate((arr1,arr2),axis=0)\n",
    "concat"
   ]
  },
  {
   "cell_type": "code",
   "execution_count": 27,
   "metadata": {},
   "outputs": [
    {
     "data": {
      "text/plain": [
       "(array([[1, 2, 3, 4],\n",
       "        [5, 6, 7, 8]]),\n",
       " array([1, 2, 3, 4, 5, 6, 7, 8]))"
      ]
     },
     "execution_count": 27,
     "metadata": {},
     "output_type": "execute_result"
    }
   ],
   "source": [
    "## Q20.\n",
    "def stack_array(arr1,arr2):\n",
    "    x = np.array(arr1)\n",
    "    y = np.array(arr2)\n",
    "    n1 = np.vstack((x,y))\n",
    "    n2 = np.hstack((x,y))\n",
    "    return n1,n2\n",
    "\n",
    "stack_array([1,2,3,4],[5,6,7,8])"
   ]
  },
  {
   "cell_type": "code",
   "execution_count": 28,
   "metadata": {},
   "outputs": [],
   "source": [
    "## Q21\n",
    "def specific_range(start,stop,step):\n",
    "    return np.arange(start,stop+1,step)"
   ]
  },
  {
   "cell_type": "code",
   "execution_count": 29,
   "metadata": {},
   "outputs": [
    {
     "data": {
      "text/plain": [
       "array([1, 3, 5, 7, 9])"
      ]
     },
     "execution_count": 29,
     "metadata": {},
     "output_type": "execute_result"
    }
   ],
   "source": [
    "specific_range(1,10,2)"
   ]
  },
  {
   "cell_type": "code",
   "execution_count": 30,
   "metadata": {},
   "outputs": [],
   "source": [
    "## Q22.\n",
    "def equal_spaced(s1,s2,n):\n",
    "    return np.linspace(start=s1,stop=s2,num=n)"
   ]
  },
  {
   "cell_type": "code",
   "execution_count": 31,
   "metadata": {},
   "outputs": [
    {
     "data": {
      "text/plain": [
       "array([0.        , 0.11111111, 0.22222222, 0.33333333, 0.44444444,\n",
       "       0.55555556, 0.66666667, 0.77777778, 0.88888889, 1.        ])"
      ]
     },
     "execution_count": 31,
     "metadata": {},
     "output_type": "execute_result"
    }
   ],
   "source": [
    "equal_spaced(0,1,10)"
   ]
  },
  {
   "cell_type": "code",
   "execution_count": 32,
   "metadata": {},
   "outputs": [],
   "source": [
    "## Q23\n",
    "def log_spaced_array(start,stop,num):\n",
    "    return np.logspace(np.log10(start),np.log10(stop),num=num)"
   ]
  },
  {
   "cell_type": "code",
   "execution_count": 33,
   "metadata": {},
   "outputs": [
    {
     "data": {
      "text/plain": [
       "array([   1.        ,    5.62341325,   31.6227766 ,  177.827941  ,\n",
       "       1000.        ])"
      ]
     },
     "execution_count": 33,
     "metadata": {},
     "output_type": "execute_result"
    }
   ],
   "source": [
    "log_spaced_array(1,1000,5)"
   ]
  },
  {
   "cell_type": "code",
   "execution_count": 34,
   "metadata": {},
   "outputs": [
    {
     "data": {
      "text/html": [
       "<div>\n",
       "<style scoped>\n",
       "    .dataframe tbody tr th:only-of-type {\n",
       "        vertical-align: middle;\n",
       "    }\n",
       "\n",
       "    .dataframe tbody tr th {\n",
       "        vertical-align: top;\n",
       "    }\n",
       "\n",
       "    .dataframe thead th {\n",
       "        text-align: right;\n",
       "    }\n",
       "</style>\n",
       "<table border=\"1\" class=\"dataframe\">\n",
       "  <thead>\n",
       "    <tr style=\"text-align: right;\">\n",
       "      <th></th>\n",
       "      <th>0</th>\n",
       "      <th>1</th>\n",
       "      <th>2</th>\n",
       "    </tr>\n",
       "  </thead>\n",
       "  <tbody>\n",
       "    <tr>\n",
       "      <th>0</th>\n",
       "      <td>17</td>\n",
       "      <td>81</td>\n",
       "      <td>30</td>\n",
       "    </tr>\n",
       "    <tr>\n",
       "      <th>1</th>\n",
       "      <td>40</td>\n",
       "      <td>28</td>\n",
       "      <td>48</td>\n",
       "    </tr>\n",
       "    <tr>\n",
       "      <th>2</th>\n",
       "      <td>99</td>\n",
       "      <td>7</td>\n",
       "      <td>46</td>\n",
       "    </tr>\n",
       "    <tr>\n",
       "      <th>3</th>\n",
       "      <td>31</td>\n",
       "      <td>69</td>\n",
       "      <td>77</td>\n",
       "    </tr>\n",
       "    <tr>\n",
       "      <th>4</th>\n",
       "      <td>54</td>\n",
       "      <td>6</td>\n",
       "      <td>31</td>\n",
       "    </tr>\n",
       "  </tbody>\n",
       "</table>\n",
       "</div>"
      ],
      "text/plain": [
       "    0   1   2\n",
       "0  17  81  30\n",
       "1  40  28  48\n",
       "2  99   7  46\n",
       "3  31  69  77\n",
       "4  54   6  31"
      ]
     },
     "execution_count": 34,
     "metadata": {},
     "output_type": "execute_result"
    }
   ],
   "source": [
    "import pandas as pd\n",
    "df = pd.DataFrame(np.random.randint(1,100,size=(5,3)))\n",
    "df"
   ]
  },
  {
   "cell_type": "code",
   "execution_count": 35,
   "metadata": {},
   "outputs": [
    {
     "data": {
      "text/html": [
       "<div>\n",
       "<style scoped>\n",
       "    .dataframe tbody tr th:only-of-type {\n",
       "        vertical-align: middle;\n",
       "    }\n",
       "\n",
       "    .dataframe tbody tr th {\n",
       "        vertical-align: top;\n",
       "    }\n",
       "\n",
       "    .dataframe thead th {\n",
       "        text-align: right;\n",
       "    }\n",
       "</style>\n",
       "<table border=\"1\" class=\"dataframe\">\n",
       "  <thead>\n",
       "    <tr style=\"text-align: right;\">\n",
       "      <th></th>\n",
       "      <th>0</th>\n",
       "      <th>1</th>\n",
       "      <th>2</th>\n",
       "    </tr>\n",
       "  </thead>\n",
       "  <tbody>\n",
       "    <tr>\n",
       "      <th>0</th>\n",
       "      <td>-9.180356</td>\n",
       "      <td>-3.450849</td>\n",
       "      <td>4.825575</td>\n",
       "    </tr>\n",
       "    <tr>\n",
       "      <th>1</th>\n",
       "      <td>-3.151764</td>\n",
       "      <td>-8.805520</td>\n",
       "      <td>-4.710917</td>\n",
       "    </tr>\n",
       "    <tr>\n",
       "      <th>2</th>\n",
       "      <td>-4.913521</td>\n",
       "      <td>2.897944</td>\n",
       "      <td>-9.600398</td>\n",
       "    </tr>\n",
       "    <tr>\n",
       "      <th>3</th>\n",
       "      <td>4.590593</td>\n",
       "      <td>2.817094</td>\n",
       "      <td>-9.080356</td>\n",
       "    </tr>\n",
       "    <tr>\n",
       "      <th>4</th>\n",
       "      <td>7.987231</td>\n",
       "      <td>0.802316</td>\n",
       "      <td>6.178354</td>\n",
       "    </tr>\n",
       "  </tbody>\n",
       "</table>\n",
       "</div>"
      ],
      "text/plain": [
       "          0         1         2\n",
       "0 -9.180356 -3.450849  4.825575\n",
       "1 -3.151764 -8.805520 -4.710917\n",
       "2 -4.913521  2.897944 -9.600398\n",
       "3  4.590593  2.817094 -9.080356\n",
       "4  7.987231  0.802316  6.178354"
      ]
     },
     "execution_count": 35,
     "metadata": {},
     "output_type": "execute_result"
    }
   ],
   "source": [
    "## Q25\n",
    "data = pd.DataFrame(np.random.uniform(-10, 10, size=(5, 3)))\n",
    "data"
   ]
  },
  {
   "cell_type": "code",
   "execution_count": 36,
   "metadata": {},
   "outputs": [],
   "source": [
    "def replace_negative(df,col_name):\n",
    "    df[col_name] = np.where(df[col_name] < 0 ,0,df[col_name])\n",
    "    return df"
   ]
  },
  {
   "cell_type": "code",
   "execution_count": 37,
   "metadata": {},
   "outputs": [
    {
     "data": {
      "text/html": [
       "<div>\n",
       "<style scoped>\n",
       "    .dataframe tbody tr th:only-of-type {\n",
       "        vertical-align: middle;\n",
       "    }\n",
       "\n",
       "    .dataframe tbody tr th {\n",
       "        vertical-align: top;\n",
       "    }\n",
       "\n",
       "    .dataframe thead th {\n",
       "        text-align: right;\n",
       "    }\n",
       "</style>\n",
       "<table border=\"1\" class=\"dataframe\">\n",
       "  <thead>\n",
       "    <tr style=\"text-align: right;\">\n",
       "      <th></th>\n",
       "      <th>0</th>\n",
       "      <th>1</th>\n",
       "      <th>2</th>\n",
       "    </tr>\n",
       "  </thead>\n",
       "  <tbody>\n",
       "    <tr>\n",
       "      <th>0</th>\n",
       "      <td>-9.180356</td>\n",
       "      <td>0.000000</td>\n",
       "      <td>4.825575</td>\n",
       "    </tr>\n",
       "    <tr>\n",
       "      <th>1</th>\n",
       "      <td>-3.151764</td>\n",
       "      <td>0.000000</td>\n",
       "      <td>-4.710917</td>\n",
       "    </tr>\n",
       "    <tr>\n",
       "      <th>2</th>\n",
       "      <td>-4.913521</td>\n",
       "      <td>2.897944</td>\n",
       "      <td>-9.600398</td>\n",
       "    </tr>\n",
       "    <tr>\n",
       "      <th>3</th>\n",
       "      <td>4.590593</td>\n",
       "      <td>2.817094</td>\n",
       "      <td>-9.080356</td>\n",
       "    </tr>\n",
       "    <tr>\n",
       "      <th>4</th>\n",
       "      <td>7.987231</td>\n",
       "      <td>0.802316</td>\n",
       "      <td>6.178354</td>\n",
       "    </tr>\n",
       "  </tbody>\n",
       "</table>\n",
       "</div>"
      ],
      "text/plain": [
       "          0         1         2\n",
       "0 -9.180356  0.000000  4.825575\n",
       "1 -3.151764  0.000000 -4.710917\n",
       "2 -4.913521  2.897944 -9.600398\n",
       "3  4.590593  2.817094 -9.080356\n",
       "4  7.987231  0.802316  6.178354"
      ]
     },
     "execution_count": 37,
     "metadata": {},
     "output_type": "execute_result"
    }
   ],
   "source": [
    "replace_negative(data,1)"
   ]
  },
  {
   "cell_type": "code",
   "execution_count": 38,
   "metadata": {},
   "outputs": [
    {
     "data": {
      "text/plain": [
       "30"
      ]
     },
     "execution_count": 38,
     "metadata": {},
     "output_type": "execute_result"
    }
   ],
   "source": [
    "## Q26.\n",
    "arr  = np.array([10,20,30,40,50])\n",
    "arr[2]"
   ]
  },
  {
   "cell_type": "code",
   "execution_count": 39,
   "metadata": {},
   "outputs": [],
   "source": [
    "## Q27.\n",
    "arr_2d = np.array([[1, 2, 3],[4, 5, 6],[7, 8, 9]])"
   ]
  },
  {
   "cell_type": "code",
   "execution_count": 40,
   "metadata": {},
   "outputs": [
    {
     "data": {
      "text/plain": [
       "6"
      ]
     },
     "execution_count": 40,
     "metadata": {},
     "output_type": "execute_result"
    }
   ],
   "source": [
    "arr_2d[1,2]"
   ]
  },
  {
   "cell_type": "code",
   "execution_count": 41,
   "metadata": {},
   "outputs": [],
   "source": [
    "## Q28.\n",
    "arr = np.array([3, 8, 2, 10, 5, 7])"
   ]
  },
  {
   "cell_type": "code",
   "execution_count": 42,
   "metadata": {},
   "outputs": [
    {
     "data": {
      "text/plain": [
       "array([ 8, 10,  7])"
      ]
     },
     "execution_count": 42,
     "metadata": {},
     "output_type": "execute_result"
    }
   ],
   "source": [
    "arr[arr>5]"
   ]
  },
  {
   "cell_type": "code",
   "execution_count": 43,
   "metadata": {},
   "outputs": [
    {
     "data": {
      "text/plain": [
       "array([3, 4, 5, 6])"
      ]
     },
     "execution_count": 43,
     "metadata": {},
     "output_type": "execute_result"
    }
   ],
   "source": [
    "## Q29.\n",
    "arr = np.array([1, 2, 3, 4, 5, 6, 7, 8, 9])\n",
    "arr[2:6]"
   ]
  },
  {
   "cell_type": "code",
   "execution_count": 44,
   "metadata": {},
   "outputs": [],
   "source": [
    "## Q30.\n",
    "arr_2d = np.array([[1, 2, 3],\n",
    "                   [4, 5, 6],\n",
    "                   [7, 8, 9]])\n"
   ]
  },
  {
   "cell_type": "code",
   "execution_count": 45,
   "metadata": {},
   "outputs": [
    {
     "data": {
      "text/plain": [
       "array([[2, 3],\n",
       "       [5, 6]])"
      ]
     },
     "execution_count": 45,
     "metadata": {},
     "output_type": "execute_result"
    }
   ],
   "source": [
    "arr_2d[0:2,1:3]"
   ]
  },
  {
   "cell_type": "code",
   "execution_count": 46,
   "metadata": {},
   "outputs": [],
   "source": [
    "## Q31.\n",
    "def extract_element(arr,indices):\n",
    "    indices = indices.astype(int)\n",
    "    extract_element = arr[indices[:,0],indices[:,1]]\n",
    "    return extract_element"
   ]
  },
  {
   "cell_type": "code",
   "execution_count": 47,
   "metadata": {},
   "outputs": [
    {
     "data": {
      "text/plain": [
       "array([20, 60, 70])"
      ]
     },
     "execution_count": 47,
     "metadata": {},
     "output_type": "execute_result"
    }
   ],
   "source": [
    "arr = np.array([[10,20,30],\n",
    "                [40,50,60],\n",
    "                [70,80,90]])\n",
    "\n",
    "indices = np.array([[0,1],\n",
    "                    [1,2],\n",
    "                    [2,0]])\n",
    "\n",
    "extracted_element = extract_element(arr,indices)\n",
    "extracted_element"
   ]
  },
  {
   "cell_type": "code",
   "execution_count": 48,
   "metadata": {},
   "outputs": [],
   "source": [
    "## Q32\n",
    "def filter_elements(arr,n):\n",
    "    arr = np.array(arr)\n",
    "    filtered = arr[arr>n]\n",
    "    return filtered\n",
    "    "
   ]
  },
  {
   "cell_type": "code",
   "execution_count": 49,
   "metadata": {},
   "outputs": [
    {
     "data": {
      "text/plain": [
       "array([7, 9, 9, 8])"
      ]
     },
     "execution_count": 49,
     "metadata": {},
     "output_type": "execute_result"
    }
   ],
   "source": [
    "filter_elements([7,4,5,9,2,9,8],5)"
   ]
  },
  {
   "cell_type": "code",
   "execution_count": 50,
   "metadata": {},
   "outputs": [],
   "source": [
    "## Q33.\n",
    "def extract_element(arr,indices):\n",
    "    indices = indices.astype(int)\n",
    "    extract_element = arr[indices[:,0],indices[:,1],indices[:,2]]\n",
    "    return extract_element"
   ]
  },
  {
   "cell_type": "code",
   "execution_count": 51,
   "metadata": {},
   "outputs": [
    {
     "data": {
      "text/plain": [
       "array([[ 80, 160, 220]])"
      ]
     },
     "execution_count": 51,
     "metadata": {},
     "output_type": "execute_result"
    }
   ],
   "source": [
    "arr = np.array([[[10,20,30],\n",
    "                 [40,50,60],\n",
    "                 [70,80,90]],\n",
    "                 \n",
    "                [[100,110,120],\n",
    "                 [130,140,150],\n",
    "                 [160,170,180]],\n",
    "                \n",
    "                [[190,200,210],\n",
    "                 [220,230,240],\n",
    "                 [250,260,270]]])\n",
    "\n",
    "indices = np.array([[[0,1,2],\n",
    "                     [2,2,1],\n",
    "                     [1,0,0]]])\n",
    "\n",
    "extracted_element = extract_element(arr,indices)\n",
    "extracted_element"
   ]
  },
  {
   "cell_type": "code",
   "execution_count": 52,
   "metadata": {},
   "outputs": [],
   "source": [
    "## Q34.\n",
    "def check_condition(arr,cond1,cond2):\n",
    "    arr = np.array(arr)\n",
    "    check = cond1(arr) & cond2(arr)\n",
    "    return arr[check]"
   ]
  },
  {
   "cell_type": "code",
   "execution_count": 53,
   "metadata": {},
   "outputs": [
    {
     "data": {
      "text/plain": [
       "array([ 6,  8, 10])"
      ]
     },
     "execution_count": 53,
     "metadata": {},
     "output_type": "execute_result"
    }
   ],
   "source": [
    "def condition1(x):\n",
    "    return x > 5\n",
    "\n",
    "def condition2(x):\n",
    "    return x %2 ==0\n",
    "\n",
    "check_condition([1,2,3,4,5,6,7,8,9,10],condition1,condition2)"
   ]
  },
  {
   "cell_type": "code",
   "execution_count": 54,
   "metadata": {},
   "outputs": [],
   "source": [
    "## Q35.\n",
    "def extract_element(arr,indices):\n",
    "    indices = indices.astype(int)\n",
    "    extract_element = arr[indices[:,0],indices[:,1]]\n",
    "    return extract_element"
   ]
  },
  {
   "cell_type": "code",
   "execution_count": 55,
   "metadata": {},
   "outputs": [
    {
     "data": {
      "text/plain": [
       "array([20, 60, 70])"
      ]
     },
     "execution_count": 55,
     "metadata": {},
     "output_type": "execute_result"
    }
   ],
   "source": [
    "arr = np.array([[10,20,30],\n",
    "                [40,50,60],\n",
    "                [70,80,90]])\n",
    "\n",
    "indices = np.array([[0,1],\n",
    "                    [1,2],\n",
    "                    [2,0]])\n",
    "\n",
    "extracted_element = extract_element(arr,indices)\n",
    "extracted_element"
   ]
  },
  {
   "cell_type": "code",
   "execution_count": 56,
   "metadata": {},
   "outputs": [
    {
     "data": {
      "text/plain": [
       "array([[6, 1, 9],\n",
       "       [4, 3, 8],\n",
       "       [3, 3, 6]])"
      ]
     },
     "execution_count": 56,
     "metadata": {},
     "output_type": "execute_result"
    }
   ],
   "source": [
    "## Q36.\n",
    "arr = np.random.randint(1,10,(3,3))\n",
    "arr"
   ]
  },
  {
   "cell_type": "code",
   "execution_count": 57,
   "metadata": {},
   "outputs": [
    {
     "data": {
      "text/plain": [
       "array([[11,  6, 14],\n",
       "       [ 9,  8, 13],\n",
       "       [ 8,  8, 11]])"
      ]
     },
     "execution_count": 57,
     "metadata": {},
     "output_type": "execute_result"
    }
   ],
   "source": [
    "arr +5"
   ]
  },
  {
   "cell_type": "code",
   "execution_count": 58,
   "metadata": {},
   "outputs": [
    {
     "data": {
      "text/plain": [
       "(array([[4, 8, 5]]),\n",
       " array([[12, 15, 18, 12],\n",
       "        [13, 10, 18, 15],\n",
       "        [12, 16, 15, 18]]))"
      ]
     },
     "execution_count": 58,
     "metadata": {},
     "output_type": "execute_result"
    }
   ],
   "source": [
    "## Q37.\n",
    "arr1 = np.random.randint(1,10,(1,3))\n",
    "arr2 = np.random.randint(10,20,(3,4))\n",
    "arr1,arr2"
   ]
  },
  {
   "cell_type": "code",
   "execution_count": 59,
   "metadata": {},
   "outputs": [
    {
     "data": {
      "text/plain": [
       "array([[ 48,  60,  72,  48],\n",
       "       [104,  80, 144, 120],\n",
       "       [ 60,  80,  75,  90]])"
      ]
     },
     "execution_count": 59,
     "metadata": {},
     "output_type": "execute_result"
    }
   ],
   "source": [
    "arr1 = arr1.reshape(3,1)\n",
    "result = arr2 * arr1\n",
    "result"
   ]
  },
  {
   "cell_type": "code",
   "execution_count": 60,
   "metadata": {},
   "outputs": [
    {
     "data": {
      "text/plain": [
       "(array([[9, 5, 3, 9]]),\n",
       " array([[12, 15, 13],\n",
       "        [10, 13, 13],\n",
       "        [17, 19, 18],\n",
       "        [12, 14, 18]]))"
      ]
     },
     "execution_count": 60,
     "metadata": {},
     "output_type": "execute_result"
    }
   ],
   "source": [
    "## Q38.\n",
    "arr1 = np.random.randint(1,10,(1,4))\n",
    "arr2 = np.random.randint(10,20,(4,3))\n",
    "arr1,arr2"
   ]
  },
  {
   "cell_type": "code",
   "execution_count": 61,
   "metadata": {},
   "outputs": [
    {
     "data": {
      "text/plain": [
       "array([[21, 24, 22],\n",
       "       [15, 18, 18],\n",
       "       [20, 22, 21],\n",
       "       [21, 23, 27]])"
      ]
     },
     "execution_count": 61,
     "metadata": {},
     "output_type": "execute_result"
    }
   ],
   "source": [
    "arr1 = arr1.reshape(4,1)\n",
    "arr1 + arr2"
   ]
  },
  {
   "cell_type": "code",
   "execution_count": 62,
   "metadata": {},
   "outputs": [
    {
     "data": {
      "text/plain": [
       "(array([[1],\n",
       "        [6],\n",
       "        [9]]),\n",
       " array([[19, 13, 10]]))"
      ]
     },
     "execution_count": 62,
     "metadata": {},
     "output_type": "execute_result"
    }
   ],
   "source": [
    "## Q39.\n",
    "arr1 = np.random.randint(1,10,(3,1))\n",
    "arr2 = np.random.randint(10,20,(1,3))\n",
    "arr1,arr2"
   ]
  },
  {
   "cell_type": "code",
   "execution_count": 63,
   "metadata": {},
   "outputs": [
    {
     "data": {
      "text/plain": [
       "array([[20, 19, 19]])"
      ]
     },
     "execution_count": 63,
     "metadata": {},
     "output_type": "execute_result"
    }
   ],
   "source": [
    "arr1 = arr1.reshape(1,3)\n",
    "arr1 + arr2"
   ]
  },
  {
   "cell_type": "code",
   "execution_count": 64,
   "metadata": {},
   "outputs": [
    {
     "data": {
      "text/plain": [
       "(array([[7, 6, 4],\n",
       "        [9, 8, 6]]),\n",
       " array([[14, 11],\n",
       "        [17, 18]]))"
      ]
     },
     "execution_count": 64,
     "metadata": {},
     "output_type": "execute_result"
    }
   ],
   "source": [
    "## Q40.\n",
    "arr1 = np.random.randint(1,10,(2,3))\n",
    "arr2 = np.random.randint(10,20,(2,2))\n",
    "arr1,arr2"
   ]
  },
  {
   "cell_type": "code",
   "execution_count": 65,
   "metadata": {},
   "outputs": [
    {
     "data": {
      "text/plain": [
       "array([[14, 11, 11],\n",
       "       [17, 18, 18]])"
      ]
     },
     "execution_count": 65,
     "metadata": {},
     "output_type": "execute_result"
    }
   ],
   "source": [
    "arr2_expand = np.hstack([arr2,arr2[:,-1:]])\n",
    "arr2_expand"
   ]
  },
  {
   "cell_type": "code",
   "execution_count": 66,
   "metadata": {},
   "outputs": [
    {
     "data": {
      "text/plain": [
       "array([[ 98,  66,  44],\n",
       "       [153, 144, 108]])"
      ]
     },
     "execution_count": 66,
     "metadata": {},
     "output_type": "execute_result"
    }
   ],
   "source": [
    "arr1 * arr2_expand"
   ]
  },
  {
   "cell_type": "code",
   "execution_count": 67,
   "metadata": {},
   "outputs": [
    {
     "data": {
      "text/plain": [
       "array([[1, 2, 3],\n",
       "       [4, 5, 6]])"
      ]
     },
     "execution_count": 67,
     "metadata": {},
     "output_type": "execute_result"
    }
   ],
   "source": [
    "## Q41.\n",
    "arr = np.array([[1, 2, 3],[4, 5, 6]])\n",
    "arr"
   ]
  },
  {
   "cell_type": "code",
   "execution_count": 68,
   "metadata": {},
   "outputs": [
    {
     "data": {
      "text/plain": [
       "array([2.5, 3.5, 4.5])"
      ]
     },
     "execution_count": 68,
     "metadata": {},
     "output_type": "execute_result"
    }
   ],
   "source": [
    "arr.mean(axis=0)"
   ]
  },
  {
   "cell_type": "code",
   "execution_count": 69,
   "metadata": {},
   "outputs": [
    {
     "data": {
      "text/plain": [
       "array([3, 6])"
      ]
     },
     "execution_count": 69,
     "metadata": {},
     "output_type": "execute_result"
    }
   ],
   "source": [
    "## Q42.\n",
    "arr.max(axis=1)"
   ]
  },
  {
   "cell_type": "code",
   "execution_count": 70,
   "metadata": {},
   "outputs": [
    {
     "data": {
      "text/plain": [
       "array([1, 1, 1], dtype=int64)"
      ]
     },
     "execution_count": 70,
     "metadata": {},
     "output_type": "execute_result"
    }
   ],
   "source": [
    "## Q43.\n",
    "arr.argmax(axis=0)"
   ]
  },
  {
   "cell_type": "code",
   "execution_count": null,
   "metadata": {},
   "outputs": [],
   "source": []
  },
  {
   "cell_type": "code",
   "execution_count": 71,
   "metadata": {},
   "outputs": [
    {
     "data": {
      "text/plain": [
       "array([[2, 4, 6],\n",
       "       [3, 5, 7]])"
      ]
     },
     "execution_count": 71,
     "metadata": {},
     "output_type": "execute_result"
    }
   ],
   "source": [
    "## Q45.\n",
    "arr = np.array([[2,4,6],[3,5,7]])\n",
    "arr"
   ]
  },
  {
   "cell_type": "code",
   "execution_count": 72,
   "metadata": {},
   "outputs": [
    {
     "data": {
      "text/plain": [
       "array([2, 4, 6])"
      ]
     },
     "execution_count": 72,
     "metadata": {},
     "output_type": "execute_result"
    }
   ],
   "source": [
    "arr[arr %2 == 0]"
   ]
  },
  {
   "cell_type": "code",
   "execution_count": 73,
   "metadata": {},
   "outputs": [],
   "source": [
    "## Q46.\n",
    "original_array = np.array([1, 2, 3, 4, 5, 6])"
   ]
  },
  {
   "cell_type": "code",
   "execution_count": 74,
   "metadata": {},
   "outputs": [
    {
     "data": {
      "text/plain": [
       "array([[1, 2, 3],\n",
       "       [4, 5, 6]])"
      ]
     },
     "execution_count": 74,
     "metadata": {},
     "output_type": "execute_result"
    }
   ],
   "source": [
    "arr = original_array.reshape(2,3)\n",
    "arr"
   ]
  },
  {
   "cell_type": "code",
   "execution_count": 75,
   "metadata": {},
   "outputs": [],
   "source": [
    "## Q47\n",
    "def flatten_matrix(matrix):\n",
    "    return matrix.flatten()"
   ]
  },
  {
   "cell_type": "code",
   "execution_count": 76,
   "metadata": {},
   "outputs": [
    {
     "data": {
      "text/plain": [
       "array([1, 2, 3, 4, 5, 6])"
      ]
     },
     "execution_count": 76,
     "metadata": {},
     "output_type": "execute_result"
    }
   ],
   "source": [
    "input_matrix = np.array([[1, 2, 3], [4, 5, 6]])\n",
    "flatten_matrix(input_matrix)"
   ]
  },
  {
   "cell_type": "code",
   "execution_count": 77,
   "metadata": {},
   "outputs": [
    {
     "data": {
      "text/plain": [
       "array([[1, 2],\n",
       "       [3, 4],\n",
       "       [5, 6],\n",
       "       [7, 8]])"
      ]
     },
     "execution_count": 77,
     "metadata": {},
     "output_type": "execute_result"
    }
   ],
   "source": [
    "## Q48.\n",
    "def concat_arr(arr1,arr2,ax):\n",
    "    return np.concatenate((arr1,arr2),axis=ax)\n",
    "\n",
    "array1 = np.array([[1, 2], [3, 4]])\n",
    "array2 = np.array([[5, 6], [7, 8]])\n",
    "\n",
    "concat_arr(array1,array2,ax =0) ## Rowise"
   ]
  },
  {
   "cell_type": "code",
   "execution_count": 78,
   "metadata": {},
   "outputs": [
    {
     "data": {
      "text/plain": [
       "array([[1, 2, 5, 6],\n",
       "       [3, 4, 7, 8]])"
      ]
     },
     "execution_count": 78,
     "metadata": {},
     "output_type": "execute_result"
    }
   ],
   "source": [
    "concat_arr(array1,array2,ax =1) # Columnwise"
   ]
  },
  {
   "cell_type": "code",
   "execution_count": 79,
   "metadata": {},
   "outputs": [
    {
     "data": {
      "text/plain": [
       "[array([[1],\n",
       "        [4],\n",
       "        [7]]),\n",
       " array([[2],\n",
       "        [5],\n",
       "        [8]]),\n",
       " array([[3],\n",
       "        [6],\n",
       "        [9]])]"
      ]
     },
     "execution_count": 79,
     "metadata": {},
     "output_type": "execute_result"
    }
   ],
   "source": [
    "## Q49.\n",
    "def split_array(arr, num_splits, axis):\n",
    "    return np.split(arr, num_splits, axis=axis)\n",
    "\n",
    "original_array = np.array([[1, 2, 3], [4, 5, 6], [7, 8, 9]])\n",
    "sub_arrays = split_array(original_array, num_splits=3, axis=1)\n",
    "sub_arrays"
   ]
  },
  {
   "cell_type": "code",
   "execution_count": 80,
   "metadata": {},
   "outputs": [],
   "source": [
    "## Q50.\n",
    "def modify_array(arr,insert_indices,insert_values,delete_indices):\n",
    "    for index , value in zip(insert_indices,insert_values):\n",
    "        arr = np.insert(arr,index,value)\n",
    "        print(arr)\n",
    "\n",
    "    arr = np.delete(arr,delete_indices)\n",
    "    return arr"
   ]
  },
  {
   "cell_type": "code",
   "execution_count": 81,
   "metadata": {},
   "outputs": [
    {
     "name": "stdout",
     "output_type": "stream",
     "text": [
      "[ 1  2 10  3  4  5]\n",
      "[ 1  2 10  3 11  4  5]\n"
     ]
    },
    {
     "data": {
      "text/plain": [
       "array([ 1, 10, 11,  4,  5])"
      ]
     },
     "execution_count": 81,
     "metadata": {},
     "output_type": "execute_result"
    }
   ],
   "source": [
    "original_array = np.array([1, 2, 3, 4, 5])\n",
    "indices_to_insert = [2, 4]\n",
    "values_to_insert = [10, 11]\n",
    "indices_to_delete = [1, 3]\n",
    "modify_array(arr=original_array,insert_indices=indices_to_insert,insert_values=values_to_insert,delete_indices=indices_to_delete)"
   ]
  },
  {
   "cell_type": "code",
   "execution_count": 82,
   "metadata": {},
   "outputs": [
    {
     "name": "stdout",
     "output_type": "stream",
     "text": [
      "arr1: [845 240 718 832 607 838 992 198 288  15]\n",
      "arr2: [92 95 70 64 35 50 38 71 23 65]\n",
      "result: [ 937  335  788  896  642  888 1030  269  311   80]\n"
     ]
    }
   ],
   "source": [
    "## Q51.\n",
    "arr1 = np.random.randint(1, 1000 , 10)\n",
    "arr2 = np.random.randint(1, 100, 10)\n",
    "print(\"arr1:\", arr1)\n",
    "print(\"arr2:\", arr2)\n",
    "result = arr1 + arr2\n",
    "print(\"result:\",result)"
   ]
  },
  {
   "cell_type": "code",
   "execution_count": 83,
   "metadata": {},
   "outputs": [
    {
     "name": "stdout",
     "output_type": "stream",
     "text": [
      "arr1: [10  9  8  7  6  5  4  3  2  1]\n",
      "arr2: [ 1  2  3  4  5  6  7  8  9 10]\n",
      "result: [ 9  7  5  3  1 -1 -3 -5 -7 -9]\n"
     ]
    }
   ],
   "source": [
    "## Q52.\n",
    "arr1 = np.arange(10, 0, -1)\n",
    "arr2 = np.arange(1, 11)\n",
    "print(\"arr1:\", arr1)\n",
    "print(\"arr2:\", arr2)\n",
    "result = arr1 - arr2\n",
    "print(\"result:\",result)"
   ]
  },
  {
   "cell_type": "code",
   "execution_count": 84,
   "metadata": {},
   "outputs": [
    {
     "name": "stdout",
     "output_type": "stream",
     "text": [
      "arr1: [54 35 68 22 41 71 29 79 82 33]\n",
      "arr2: [2 4 1 3 2 3 2 3 3 3]\n",
      "result: [108 140  68  66  82 213  58 237 246  99]\n"
     ]
    }
   ],
   "source": [
    "## Q53.\n",
    "arr1 = np.random.randint(10, 100 , 10)\n",
    "arr2 = np.random.randint(1, 5, 10)\n",
    "print(\"arr1:\", arr1)\n",
    "print(\"arr2:\", arr2)\n",
    "result = arr1 * arr2\n",
    "print(\"result:\",result)"
   ]
  },
  {
   "cell_type": "code",
   "execution_count": 85,
   "metadata": {},
   "outputs": [
    {
     "name": "stdout",
     "output_type": "stream",
     "text": [
      "arr1: [ 2  4  6  8 10]\n",
      "arr2: [4 4 3 3 4]\n",
      "result [0.5        1.         2.         2.66666667 2.5       ]\n"
     ]
    }
   ],
   "source": [
    "## Q54.\n",
    "arr1 = np.arange(2, 11, 2)\n",
    "arr2 = np.random.randint(1, 5, 5)\n",
    "print(\"arr1:\", arr1)\n",
    "print(\"arr2:\", arr2)\n",
    "result = arr1 / arr2\n",
    "print(\"result\",result)"
   ]
  },
  {
   "cell_type": "code",
   "execution_count": 86,
   "metadata": {},
   "outputs": [
    {
     "name": "stdout",
     "output_type": "stream",
     "text": [
      "[4 3 4 2 1]\n",
      "[1 2 4 3 4]\n",
      "result: [  4   9 256   8   1]\n"
     ]
    }
   ],
   "source": [
    "## Q55.\n",
    "arr1 = np.random.randint(1,5,5)\n",
    "arr2 = arr1[::-1]\n",
    "print(arr1)\n",
    "print(arr2)\n",
    "result = arr1 ** arr2\n",
    "print(\"result:\",result)"
   ]
  },
  {
   "cell_type": "code",
   "execution_count": 87,
   "metadata": {},
   "outputs": [],
   "source": [
    "## Q56.\n",
    "def occurance(arr,substring):\n",
    "    count = 0\n",
    "    for i in arr:\n",
    "        if i == substring:\n",
    "            count +=1\n",
    "\n",
    "    return count"
   ]
  },
  {
   "cell_type": "code",
   "execution_count": 88,
   "metadata": {},
   "outputs": [
    {
     "data": {
      "text/plain": [
       "3"
      ]
     },
     "execution_count": 88,
     "metadata": {},
     "output_type": "execute_result"
    }
   ],
   "source": [
    "arr = np.array(['hello', 'world', 'hello', 'numpy', 'hello'])\n",
    "substring = 'hello'\n",
    "occurance(arr,substring)"
   ]
  },
  {
   "cell_type": "code",
   "execution_count": 89,
   "metadata": {},
   "outputs": [],
   "source": [
    "## Q57.\n",
    "def upper_case(arr):\n",
    "    upper_char=[]\n",
    "    for i in arr:\n",
    "        for j in i:\n",
    "            if j.isupper():\n",
    "                upper_char.append(j)\n",
    "\n",
    "    return upper_char"
   ]
  },
  {
   "cell_type": "code",
   "execution_count": 90,
   "metadata": {},
   "outputs": [
    {
     "data": {
      "text/plain": [
       "['H', 'W', 'O', 'A', 'I', 'G', 'P', 'T']"
      ]
     },
     "execution_count": 90,
     "metadata": {},
     "output_type": "execute_result"
    }
   ],
   "source": [
    "arr = np.array(['Hello', 'World', 'OpenAI', 'GPT'])\n",
    "upper_case(arr)"
   ]
  },
  {
   "cell_type": "code",
   "execution_count": 91,
   "metadata": {},
   "outputs": [],
   "source": [
    "## Q58.\n",
    "def replace_string(arr,old_substring,new_substring):\n",
    "    substring= np.array([i.replace(old_substring,new_substring) for i in arr])\n",
    "    return substring"
   ]
  },
  {
   "cell_type": "code",
   "execution_count": 92,
   "metadata": {},
   "outputs": [
    {
     "data": {
      "text/plain": [
       "array(['apple', 'fruit', 'grape', 'pineapple'], dtype='<U9')"
      ]
     },
     "execution_count": 92,
     "metadata": {},
     "output_type": "execute_result"
    }
   ],
   "source": [
    "arr = np.array(['apple', 'banana', 'grape', 'pineapple'])\n",
    "replace_string(arr,'banana','fruit')"
   ]
  },
  {
   "cell_type": "code",
   "execution_count": 93,
   "metadata": {},
   "outputs": [],
   "source": [
    "def replacing_string(arr,old,new):\n",
    "    replaced_list = []\n",
    "    for i in arr:\n",
    "        replaced_string = i.replace(old,new)\n",
    "        replaced_list.append(replaced_string)\n",
    "\n",
    "    replaced_array= np.array(replaced_list)\n",
    "    return replaced_array"
   ]
  },
  {
   "cell_type": "code",
   "execution_count": 94,
   "metadata": {},
   "outputs": [
    {
     "data": {
      "text/plain": [
       "array(['apple', 'fruit', 'grape', 'pineapple'], dtype='<U9')"
      ]
     },
     "execution_count": 94,
     "metadata": {},
     "output_type": "execute_result"
    }
   ],
   "source": [
    "arr = np.array(['apple', 'banana', 'grape', 'pineapple'])\n",
    "replacing_string(arr,'banana','fruit')"
   ]
  },
  {
   "cell_type": "code",
   "execution_count": 95,
   "metadata": {},
   "outputs": [],
   "source": [
    "## Q59.\n",
    "def concatenation(arr1,arr2):\n",
    "    return np.concatenate((arr1,arr2))"
   ]
  },
  {
   "cell_type": "code",
   "execution_count": 96,
   "metadata": {},
   "outputs": [
    {
     "data": {
      "text/plain": [
       "array(['Hello', 'World', 'Open', 'AI'], dtype='<U5')"
      ]
     },
     "execution_count": 96,
     "metadata": {},
     "output_type": "execute_result"
    }
   ],
   "source": [
    "arr1 = np.array(['Hello', 'World'])\n",
    "arr2 = np.array(['Open', 'AI'])\n",
    "concatenation(arr1,arr2)"
   ]
  },
  {
   "cell_type": "code",
   "execution_count": 97,
   "metadata": {},
   "outputs": [],
   "source": [
    "## Q60.\n",
    "arr = np.array(['apple', 'banana', 'grape', 'pineapple'])"
   ]
  },
  {
   "cell_type": "code",
   "execution_count": 98,
   "metadata": {},
   "outputs": [],
   "source": [
    "def find_len(arr):\n",
    "    length = 0\n",
    "    for i in arr:\n",
    "        max_length = max(length,len(i))\n",
    "\n",
    "    return max_length\n"
   ]
  },
  {
   "cell_type": "code",
   "execution_count": 99,
   "metadata": {},
   "outputs": [
    {
     "data": {
      "text/plain": [
       "9"
      ]
     },
     "execution_count": 99,
     "metadata": {},
     "output_type": "execute_result"
    }
   ],
   "source": [
    "arr = np.array(['apple', 'banana', 'grape', 'pineapple'])\n",
    "find_len(arr)"
   ]
  },
  {
   "cell_type": "code",
   "execution_count": 100,
   "metadata": {},
   "outputs": [
    {
     "data": {
      "text/plain": [
       "array([515, 811, 442,  62, 101,  24, 845,  30, 388,  24, 120, 982, 495,\n",
       "       152, 493, 492, 338, 439, 982, 655, 195, 370, 141, 962, 933, 214,\n",
       "       858,  41, 479, 196, 425, 114, 903, 774, 201, 874, 571, 939, 399,\n",
       "       995, 191, 748, 372, 704, 894, 216, 807, 472, 419, 438, 634, 102,\n",
       "       803, 117, 104, 806, 214,  35, 687,  87, 969, 905, 103, 497, 810,\n",
       "       638, 649, 140, 628, 197, 632, 250, 655, 994, 752, 794, 247, 598,\n",
       "       320, 408, 537, 793, 400,  57, 750, 957, 232, 394, 628, 972, 589,\n",
       "       883,  13, 216, 699, 449,  62, 341, 906, 471])"
      ]
     },
     "execution_count": 100,
     "metadata": {},
     "output_type": "execute_result"
    }
   ],
   "source": [
    "## Q61.\n",
    "arr = np.random.randint(1,1000,100)\n",
    "arr"
   ]
  },
  {
   "cell_type": "code",
   "execution_count": 101,
   "metadata": {},
   "outputs": [
    {
     "name": "stdout",
     "output_type": "stream",
     "text": [
      "mean: 493.59\n",
      "median: 475.5\n",
      "varaince 93035.66189999998\n",
      "standard deviation 305.01747802380106\n"
     ]
    }
   ],
   "source": [
    "print(\"mean:\",np.mean(arr))\n",
    "print(\"median:\",np.median(arr))\n",
    "print(\"varaince\",np.var(arr))\n",
    "print(\"standard deviation\",np.std(arr))"
   ]
  },
  {
   "cell_type": "code",
   "execution_count": 102,
   "metadata": {},
   "outputs": [
    {
     "data": {
      "text/plain": [
       "array([91,  7,  7, 58, 98, 42, 23, 16, 39, 49, 83, 79, 85, 61, 16, 38, 67,\n",
       "       18, 34, 55, 57, 86, 96, 36, 23, 81, 10, 86, 47, 95, 65, 48, 71, 71,\n",
       "       63, 41, 50, 37, 86, 15, 28, 27, 87, 80, 38,  4, 71, 54, 29,  4])"
      ]
     },
     "execution_count": 102,
     "metadata": {},
     "output_type": "execute_result"
    }
   ],
   "source": [
    "## Q62.\n",
    "arr = np.random.randint(1,100,50)\n",
    "arr"
   ]
  },
  {
   "cell_type": "code",
   "execution_count": 103,
   "metadata": {},
   "outputs": [
    {
     "name": "stdout",
     "output_type": "stream",
     "text": [
      "Percentile_25: 28.25\n",
      "Percentile_75: 77.0\n"
     ]
    }
   ],
   "source": [
    "print(\"Percentile_25:\",np.percentile(arr,25))\n",
    "print(\"Percentile_75:\",np.percentile(arr,75))"
   ]
  },
  {
   "cell_type": "code",
   "execution_count": 104,
   "metadata": {},
   "outputs": [
    {
     "data": {
      "text/plain": [
       "array([[ 1., -1.],\n",
       "       [-1.,  1.]])"
      ]
     },
     "execution_count": 104,
     "metadata": {},
     "output_type": "execute_result"
    }
   ],
   "source": [
    "## Q63.\n",
    "arr1 = np.array([1,2,3,4,5])\n",
    "arr2 = np.array([5,4,3,2,1])\n",
    "np.corrcoef(arr1,arr2)"
   ]
  },
  {
   "cell_type": "code",
   "execution_count": 105,
   "metadata": {},
   "outputs": [
    {
     "name": "stdout",
     "output_type": "stream",
     "text": [
      "arr1\n",
      " [[2 5]\n",
      " [8 9]\n",
      " [2 4]]\n",
      "arr2\n",
      " [[18 13 11]\n",
      " [11 11 12]]\n",
      "result:\n",
      " [[ 91  81  82]\n",
      " [243 203 196]\n",
      " [ 80  70  70]]\n"
     ]
    }
   ],
   "source": [
    "## Q64.\n",
    "arr1 = np.random.randint(1,10,(3,2))\n",
    "arr2 = np.random.randint(10,20,(2,3))\n",
    "print(\"arr1\\n\",arr1)\n",
    "print(\"arr2\\n\",arr2)\n",
    "result = np.dot(arr1,arr2)\n",
    "print(\"result:\\n\",result)"
   ]
  },
  {
   "cell_type": "code",
   "execution_count": 106,
   "metadata": {},
   "outputs": [
    {
     "data": {
      "text/plain": [
       "array([926, 864, 647, 646, 624, 344, 599, 522, 838, 676, 638,  26, 689,\n",
       "       708, 284, 927,  63, 922, 192, 765, 970, 935, 965, 574, 663,  86,\n",
       "       354, 907,  15, 488,  60, 341, 119, 216, 777,  49, 687, 983, 686,\n",
       "       121, 473, 436, 966, 340, 224, 864, 722, 826, 507, 326])"
      ]
     },
     "execution_count": 106,
     "metadata": {},
     "output_type": "execute_result"
    }
   ],
   "source": [
    "## Q65.\n",
    "arr = np.random.randint(10,1000,50)\n",
    "arr"
   ]
  },
  {
   "cell_type": "code",
   "execution_count": 107,
   "metadata": {},
   "outputs": [
    {
     "name": "stdout",
     "output_type": "stream",
     "text": [
      "percentile_10: 83.7\n",
      "percentile_50: 631.0\n",
      "percentile_90: 927.8\n",
      "1st quartile: 329.5\n",
      "3rd quartile: 813.75\n"
     ]
    }
   ],
   "source": [
    "print(\"percentile_10:\",np.percentile(arr,10))\n",
    "print(\"percentile_50:\",np.percentile(arr,50))\n",
    "print(\"percentile_90:\",np.percentile(arr,90))\n",
    "print(\"1st quartile:\",np.percentile(arr,25))\n",
    "print(\"3rd quartile:\",np.percentile(arr,75))"
   ]
  },
  {
   "cell_type": "code",
   "execution_count": 108,
   "metadata": {},
   "outputs": [],
   "source": [
    "## Q66.\n",
    "def finding_index(arr,value):\n",
    "    indices = np.where(arr == value)\n",
    "    return indices"
   ]
  },
  {
   "cell_type": "code",
   "execution_count": 109,
   "metadata": {},
   "outputs": [
    {
     "data": {
      "text/plain": [
       "(array([2], dtype=int64),)"
      ]
     },
     "execution_count": 109,
     "metadata": {},
     "output_type": "execute_result"
    }
   ],
   "source": [
    "arr = np.array([10,20,30,40,50])\n",
    "value = 30\n",
    "finding_index(arr,value)"
   ]
  },
  {
   "cell_type": "code",
   "execution_count": 110,
   "metadata": {},
   "outputs": [
    {
     "data": {
      "text/plain": [
       "array([ 9,  4, 10,  1,  2,  9,  7,  1, 10, 10])"
      ]
     },
     "execution_count": 110,
     "metadata": {},
     "output_type": "execute_result"
    }
   ],
   "source": [
    "## Q67.\n",
    "arr = np.random.randint(1,11,10)\n",
    "arr"
   ]
  },
  {
   "cell_type": "code",
   "execution_count": 111,
   "metadata": {},
   "outputs": [
    {
     "data": {
      "text/plain": [
       "array([ 1,  1,  2,  4,  7,  9,  9, 10, 10, 10])"
      ]
     },
     "execution_count": 111,
     "metadata": {},
     "output_type": "execute_result"
    }
   ],
   "source": [
    "sorted_arr = np.sort(arr)\n",
    "sorted_arr"
   ]
  },
  {
   "cell_type": "code",
   "execution_count": 112,
   "metadata": {},
   "outputs": [],
   "source": [
    "## Q68.\n",
    "arr = np.array([12,25,6,42,8,30])"
   ]
  },
  {
   "cell_type": "code",
   "execution_count": 113,
   "metadata": {},
   "outputs": [
    {
     "data": {
      "text/plain": [
       "array([25, 42, 30])"
      ]
     },
     "execution_count": 113,
     "metadata": {},
     "output_type": "execute_result"
    }
   ],
   "source": [
    "element = arr[arr>20]\n",
    "element"
   ]
  },
  {
   "cell_type": "code",
   "execution_count": 114,
   "metadata": {},
   "outputs": [
    {
     "data": {
      "text/plain": [
       "array([12, 15])"
      ]
     },
     "execution_count": 114,
     "metadata": {},
     "output_type": "execute_result"
    }
   ],
   "source": [
    "## Q69.\n",
    "arr = np.array([1, 5, 8, 12, 15])\n",
    "element = arr[arr %3 == 0]\n",
    "element"
   ]
  },
  {
   "cell_type": "code",
   "execution_count": 115,
   "metadata": {},
   "outputs": [
    {
     "data": {
      "text/plain": [
       "array([20, 30, 40])"
      ]
     },
     "execution_count": 115,
     "metadata": {},
     "output_type": "execute_result"
    }
   ],
   "source": [
    "## Q70\n",
    "arr = np.array([10, 20, 30, 40, 50])\n",
    "element = arr[(arr>=20) & (arr<=40)]\n",
    "element"
   ]
  },
  {
   "cell_type": "code",
   "execution_count": 116,
   "metadata": {},
   "outputs": [
    {
     "data": {
      "text/plain": [
       "'='"
      ]
     },
     "execution_count": 116,
     "metadata": {},
     "output_type": "execute_result"
    }
   ],
   "source": [
    "## Q71.\n",
    "arr = np.array([1,2,3])\n",
    "byte_order = arr.dtype.byteorder\n",
    "byte_order"
   ]
  },
  {
   "cell_type": "code",
   "execution_count": 117,
   "metadata": {},
   "outputs": [
    {
     "name": "stdout",
     "output_type": "stream",
     "text": [
      "Original array: [1 2 3]\n",
      "Original array bytes:\n",
      "b'\\x01\\x00\\x00\\x00\\x02\\x00\\x00\\x00\\x03\\x00\\x00\\x00'\n",
      "\n",
      "Byte-swapped array: [16777216 33554432 50331648]\n",
      "Byte-swapped array bytes:\n",
      "b'\\x00\\x00\\x00\\x01\\x00\\x00\\x00\\x02\\x00\\x00\\x00\\x03'\n"
     ]
    }
   ],
   "source": [
    "## Q72.\n",
    "arr = np.array([1, 2, 3], dtype=np.int32)\n",
    "print(\"Original array:\", arr)\n",
    "print(\"Original array bytes:\")\n",
    "print(arr.tobytes())\n",
    "\n",
    "arr.byteswap(inplace=True)\n",
    "\n",
    "print(\"\\nByte-swapped array:\",arr)\n",
    "print(\"Byte-swapped array bytes:\")\n",
    "print(arr.tobytes())"
   ]
  },
  {
   "cell_type": "code",
   "execution_count": 118,
   "metadata": {},
   "outputs": [
    {
     "name": "stdout",
     "output_type": "stream",
     "text": [
      "Original array: [1 2 3]\n",
      "Original array bytes:\n",
      "b'\\x01\\x00\\x00\\x00\\x02\\x00\\x00\\x00\\x03\\x00\\x00\\x00'\n",
      "\n",
      "Byte-swapped array: [16777216 33554432 50331648]\n",
      "Byte-swapped array bytes:\n",
      "b'\\x01\\x00\\x00\\x00\\x02\\x00\\x00\\x00\\x03\\x00\\x00\\x00'\n",
      "\n",
      "Original array after byte swap: [1 2 3]\n",
      "Original array bytes after byte swap:\n",
      "b'\\x01\\x00\\x00\\x00\\x02\\x00\\x00\\x00\\x03\\x00\\x00\\x00'\n"
     ]
    }
   ],
   "source": [
    "## Q73.\n",
    "arr = np.array([1, 2, 3], dtype=np.int32)\n",
    "print(\"Original array:\", arr)\n",
    "print(\"Original array bytes:\")\n",
    "print(arr.tobytes())\n",
    "\n",
    "swapped_arr = arr.newbyteorder()\n",
    "\n",
    "print(\"\\nByte-swapped array:\",swapped_arr)\n",
    "print(\"Byte-swapped array bytes:\")\n",
    "print(swapped_arr.tobytes())\n",
    "\n",
    "print(\"\\nOriginal array after byte swap:\", arr)\n",
    "print(\"Original array bytes after byte swap:\")\n",
    "print(arr.tobytes())"
   ]
  },
  {
   "cell_type": "code",
   "execution_count": 119,
   "metadata": {},
   "outputs": [
    {
     "name": "stdout",
     "output_type": "stream",
     "text": [
      "\n",
      "Original array: [1 2 3]\n",
      "Original array bytes:\n",
      "b'\\x01\\x00\\x00\\x00\\x02\\x00\\x00\\x00\\x03\\x00\\x00\\x00'\n",
      "\n",
      "System endianness: little\n",
      "\n",
      "Byte-swapped array: [16777216 33554432 50331648]\n",
      "Byte-swapped array bytes:\n",
      "b'\\x01\\x00\\x00\\x00\\x02\\x00\\x00\\x00\\x03\\x00\\x00\\x00'\n",
      "\n",
      "Original array after byte swap: [1 2 3]\n",
      "Original array bytes after byte swap:\n",
      "b'\\x01\\x00\\x00\\x00\\x02\\x00\\x00\\x00\\x03\\x00\\x00\\x00'\n"
     ]
    }
   ],
   "source": [
    "## Q74.\n",
    "import numpy as np\n",
    "import sys\n",
    "\n",
    "# Create a NumPy array with specified dtype\n",
    "arr = np.array([1, 2, 3], dtype=np.int32)\n",
    "\n",
    "# Print original array and its bytes\n",
    "print(\"\\nOriginal array:\", arr)\n",
    "print(\"Original array bytes:\")\n",
    "print(arr.tobytes())\n",
    "\n",
    "# Check system endianness\n",
    "system_endianness = sys.byteorder\n",
    "print(\"\\nSystem endianness:\", system_endianness)\n",
    "\n",
    "# Swap byte order conditionally\n",
    "if system_endianness == 'little':\n",
    "    swapped_arr = arr.newbyteorder('>')\n",
    "elif system_endianness == 'big':\n",
    "    swapped_arr = arr.newbyteorder('<')\n",
    "\n",
    "# Print byte-swapped array and its bytes\n",
    "print(\"\\nByte-swapped array:\", swapped_arr)\n",
    "print(\"Byte-swapped array bytes:\")\n",
    "print(swapped_arr.tobytes())\n",
    "\n",
    "# Print original array to show it has not been modified\n",
    "print(\"\\nOriginal array after byte swap:\", arr)\n",
    "print(\"Original array bytes after byte swap:\")\n",
    "print(arr.tobytes())\n"
   ]
  },
  {
   "cell_type": "code",
   "execution_count": 120,
   "metadata": {},
   "outputs": [
    {
     "name": "stdout",
     "output_type": "stream",
     "text": [
      "Original array: [1 2 3]\n",
      "Original array bytes:\n",
      "b'\\x01\\x00\\x00\\x00\\x02\\x00\\x00\\x00\\x03\\x00\\x00\\x00'\n",
      "\n",
      "System endianness: little\n",
      "\n",
      "Array byte order: =\n",
      "Byte swapping is not necessary.\n",
      "\n",
      "Original array after check: [1 2 3]\n",
      "Original array bytes after check:\n",
      "b'\\x01\\x00\\x00\\x00\\x02\\x00\\x00\\x00\\x03\\x00\\x00\\x00'\n"
     ]
    }
   ],
   "source": [
    "## Q75.\n",
    "import numpy as np\n",
    "import sys\n",
    "\n",
    "# Create a NumPy array with specified dtype\n",
    "arr = np.array([1, 2, 3], dtype=np.int32)\n",
    "\n",
    "# Print original array and its bytes\n",
    "print(\"Original array:\", arr)\n",
    "print(\"Original array bytes:\")\n",
    "print(arr.tobytes())\n",
    "\n",
    "# Check system endianness\n",
    "system_endianness = sys.byteorder\n",
    "print(\"\\nSystem endianness:\", system_endianness)\n",
    "\n",
    "# Check array's byte order\n",
    "array_byteorder = arr.dtype.byteorder\n",
    "print(\"\\nArray byte order:\", array_byteorder)\n",
    "\n",
    "# Determine if byte swapping is necessary\n",
    "# '=' means native byte order, '<' means little-endian, '>' means big-endian\n",
    "if (system_endianness == 'little' and array_byteorder == '>') or \\\n",
    "   (system_endianness == 'big' and array_byteorder == '<'):\n",
    "    print(\"\\nByte swapping is necessary.\")\n",
    "    swapped_arr = arr.byteswap().newbyteorder()\n",
    "    print(\"\\nByte-swapped array:\", swapped_arr)\n",
    "    print(\"Byte-swapped array bytes:\")\n",
    "    print(swapped_arr.tobytes())\n",
    "else:\n",
    "    print(\"Byte swapping is not necessary.\")\n",
    "\n",
    "# Print original array to show it has not been modified\n",
    "print(\"\\nOriginal array after check:\", arr)\n",
    "print(\"Original array bytes after check:\")\n",
    "print(arr.tobytes())\n"
   ]
  },
  {
   "cell_type": "code",
   "execution_count": 121,
   "metadata": {},
   "outputs": [
    {
     "name": "stdout",
     "output_type": "stream",
     "text": [
      "[3 5 2 6 8 4]\n",
      "[3 5 2 6 8 4]\n"
     ]
    }
   ],
   "source": [
    "## Q76.\n",
    "a = np.array([3,5,2,6,8,4])\n",
    "b = np.copy(a)\n",
    "print(a)\n",
    "print(b)"
   ]
  },
  {
   "cell_type": "code",
   "execution_count": 122,
   "metadata": {},
   "outputs": [
    {
     "data": {
      "text/plain": [
       "2"
      ]
     },
     "execution_count": 122,
     "metadata": {},
     "output_type": "execute_result"
    }
   ],
   "source": [
    "b[2]"
   ]
  },
  {
   "cell_type": "code",
   "execution_count": 123,
   "metadata": {},
   "outputs": [
    {
     "data": {
      "text/plain": [
       "array([3, 5, 9, 6, 8, 4])"
      ]
     },
     "execution_count": 123,
     "metadata": {},
     "output_type": "execute_result"
    }
   ],
   "source": [
    "b[2] = 9\n",
    "b"
   ]
  },
  {
   "cell_type": "code",
   "execution_count": 124,
   "metadata": {},
   "outputs": [
    {
     "data": {
      "text/plain": [
       "array([3, 5, 2, 6, 8, 4])"
      ]
     },
     "execution_count": 124,
     "metadata": {},
     "output_type": "execute_result"
    }
   ],
   "source": [
    "a"
   ]
  },
  {
   "cell_type": "markdown",
   "metadata": {},
   "source": [
    "No,modifying array b(copy_arr) doen't affect the \n",
    "a (arr1) "
   ]
  },
  {
   "cell_type": "code",
   "execution_count": 125,
   "metadata": {},
   "outputs": [
    {
     "data": {
      "text/plain": [
       "array([[2, 1, 4],\n",
       "       [4, 8, 9],\n",
       "       [7, 8, 4]])"
      ]
     },
     "execution_count": 125,
     "metadata": {},
     "output_type": "execute_result"
    }
   ],
   "source": [
    "## Q77.\n",
    "matrix = np.random.randint(1,11,(3,3))\n",
    "matrix"
   ]
  },
  {
   "cell_type": "code",
   "execution_count": 126,
   "metadata": {},
   "outputs": [
    {
     "data": {
      "text/plain": [
       "array([[2, 1],\n",
       "       [4, 8]])"
      ]
     },
     "execution_count": 126,
     "metadata": {},
     "output_type": "execute_result"
    }
   ],
   "source": [
    "view_slice = matrix[:2,:2]\n",
    "view_slice"
   ]
  },
  {
   "cell_type": "code",
   "execution_count": 127,
   "metadata": {},
   "outputs": [
    {
     "data": {
      "text/plain": [
       "8"
      ]
     },
     "execution_count": 127,
     "metadata": {},
     "output_type": "execute_result"
    }
   ],
   "source": [
    "view_slice[1,1]"
   ]
  },
  {
   "cell_type": "code",
   "execution_count": 128,
   "metadata": {},
   "outputs": [
    {
     "data": {
      "text/plain": [
       "array([[ 2,  1],\n",
       "       [ 4, 17]])"
      ]
     },
     "execution_count": 128,
     "metadata": {},
     "output_type": "execute_result"
    }
   ],
   "source": [
    "view_slice[1,1] = 17\n",
    "view_slice"
   ]
  },
  {
   "cell_type": "code",
   "execution_count": 129,
   "metadata": {},
   "outputs": [
    {
     "data": {
      "text/plain": [
       "array([[ 2,  1,  4],\n",
       "       [ 4, 17,  9],\n",
       "       [ 7,  8,  4]])"
      ]
     },
     "execution_count": 129,
     "metadata": {},
     "output_type": "execute_result"
    }
   ],
   "source": [
    "matrix"
   ]
  },
  {
   "cell_type": "markdown",
   "metadata": {},
   "source": [
    "yes,modfying a view slice affects the original array."
   ]
  },
  {
   "cell_type": "code",
   "execution_count": 130,
   "metadata": {},
   "outputs": [
    {
     "data": {
      "text/plain": [
       "array([[ 1,  2,  3],\n",
       "       [ 4,  5,  6],\n",
       "       [ 7,  8,  9],\n",
       "       [10, 11, 12]])"
      ]
     },
     "execution_count": 130,
     "metadata": {},
     "output_type": "execute_result"
    }
   ],
   "source": [
    "## Q78.\n",
    "array_a = np.arange(1,13).reshape(4,3)\n",
    "array_a"
   ]
  },
  {
   "cell_type": "code",
   "execution_count": 131,
   "metadata": {},
   "outputs": [
    {
     "data": {
      "text/plain": [
       "array([[5, 6],\n",
       "       [8, 9]])"
      ]
     },
     "execution_count": 131,
     "metadata": {},
     "output_type": "execute_result"
    }
   ],
   "source": [
    "view_b = array_a[1:3,1:3]\n",
    "view_b"
   ]
  },
  {
   "cell_type": "code",
   "execution_count": 132,
   "metadata": {},
   "outputs": [
    {
     "data": {
      "text/plain": [
       "array([[10, 11],\n",
       "       [13, 14]])"
      ]
     },
     "execution_count": 132,
     "metadata": {},
     "output_type": "execute_result"
    }
   ],
   "source": [
    "view_b += 5\n",
    "view_b"
   ]
  },
  {
   "cell_type": "code",
   "execution_count": 133,
   "metadata": {},
   "outputs": [
    {
     "data": {
      "text/plain": [
       "array([[ 1,  2,  3],\n",
       "       [ 4, 10, 11],\n",
       "       [ 7, 13, 14],\n",
       "       [10, 11, 12]])"
      ]
     },
     "execution_count": 133,
     "metadata": {},
     "output_type": "execute_result"
    }
   ],
   "source": [
    "array_a"
   ]
  },
  {
   "cell_type": "markdown",
   "metadata": {},
   "source": [
    "yes, modifying view_b alter the original array_a"
   ]
  },
  {
   "cell_type": "code",
   "execution_count": 134,
   "metadata": {},
   "outputs": [
    {
     "data": {
      "text/plain": [
       "array([[6, 7, 8, 6],\n",
       "       [8, 1, 8, 2]])"
      ]
     },
     "execution_count": 134,
     "metadata": {},
     "output_type": "execute_result"
    }
   ],
   "source": [
    "## Q79.\n",
    "orig_array = np.random.randint(1,9,(2,4))\n",
    "orig_array"
   ]
  },
  {
   "cell_type": "code",
   "execution_count": 135,
   "metadata": {},
   "outputs": [
    {
     "data": {
      "text/plain": [
       "array([[6, 7],\n",
       "       [8, 6],\n",
       "       [8, 1],\n",
       "       [8, 2]])"
      ]
     },
     "execution_count": 135,
     "metadata": {},
     "output_type": "execute_result"
    }
   ],
   "source": [
    "reshaped_view = orig_array.reshape(4,2)\n",
    "reshaped_view"
   ]
  },
  {
   "cell_type": "code",
   "execution_count": 136,
   "metadata": {},
   "outputs": [
    {
     "data": {
      "text/plain": [
       "array([[8]])"
      ]
     },
     "execution_count": 136,
     "metadata": {},
     "output_type": "execute_result"
    }
   ],
   "source": [
    "reshaped_view[1:2,:1]"
   ]
  },
  {
   "cell_type": "code",
   "execution_count": 137,
   "metadata": {},
   "outputs": [
    {
     "data": {
      "text/plain": [
       "array([[ 6,  7],\n",
       "       [30,  6],\n",
       "       [ 8,  1],\n",
       "       [ 8,  2]])"
      ]
     },
     "execution_count": 137,
     "metadata": {},
     "output_type": "execute_result"
    }
   ],
   "source": [
    "reshaped_view[1:2,:1] = 30\n",
    "reshaped_view"
   ]
  },
  {
   "cell_type": "code",
   "execution_count": 138,
   "metadata": {},
   "outputs": [
    {
     "data": {
      "text/plain": [
       "array([[ 6,  7, 30,  6],\n",
       "       [ 8,  1,  8,  2]])"
      ]
     },
     "execution_count": 138,
     "metadata": {},
     "output_type": "execute_result"
    }
   ],
   "source": [
    "orig_array"
   ]
  },
  {
   "cell_type": "markdown",
   "metadata": {},
   "source": [
    "yes, it reflects the changes in \"orig_array\""
   ]
  },
  {
   "cell_type": "code",
   "execution_count": 139,
   "metadata": {},
   "outputs": [
    {
     "data": {
      "text/plain": [
       "array([[ 3, 19, 19, 17],\n",
       "       [ 8, 20,  3,  7],\n",
       "       [ 2,  9, 13,  6]])"
      ]
     },
     "execution_count": 139,
     "metadata": {},
     "output_type": "execute_result"
    }
   ],
   "source": [
    "## Q80.\n",
    "data = np.random.randint(1,21,(3,4))\n",
    "data"
   ]
  },
  {
   "cell_type": "code",
   "execution_count": 140,
   "metadata": {},
   "outputs": [
    {
     "data": {
      "text/plain": [
       "array([19, 19, 17,  8, 20,  7,  9, 13,  6])"
      ]
     },
     "execution_count": 140,
     "metadata": {},
     "output_type": "execute_result"
    }
   ],
   "source": [
    "data_copy = data[data>5].copy()\n",
    "data_copy"
   ]
  },
  {
   "cell_type": "code",
   "execution_count": 141,
   "metadata": {},
   "outputs": [
    {
     "data": {
      "text/plain": [
       "8"
      ]
     },
     "execution_count": 141,
     "metadata": {},
     "output_type": "execute_result"
    }
   ],
   "source": [
    "data_copy[3]"
   ]
  },
  {
   "cell_type": "code",
   "execution_count": 142,
   "metadata": {},
   "outputs": [
    {
     "data": {
      "text/plain": [
       "array([19, 19, 17, 94, 20,  7,  9, 13,  6])"
      ]
     },
     "execution_count": 142,
     "metadata": {},
     "output_type": "execute_result"
    }
   ],
   "source": [
    "data_copy[3] = 94\n",
    "data_copy"
   ]
  },
  {
   "cell_type": "code",
   "execution_count": 143,
   "metadata": {},
   "outputs": [
    {
     "data": {
      "text/plain": [
       "array([[ 3, 19, 19, 17],\n",
       "       [ 8, 20,  3,  7],\n",
       "       [ 2,  9, 13,  6]])"
      ]
     },
     "execution_count": 143,
     "metadata": {},
     "output_type": "execute_result"
    }
   ],
   "source": [
    "data"
   ]
  },
  {
   "cell_type": "markdown",
   "metadata": {},
   "source": [
    "modfying the data_copy doesn't affect the original data"
   ]
  },
  {
   "cell_type": "code",
   "execution_count": 144,
   "metadata": {},
   "outputs": [],
   "source": [
    "## Q81.\n",
    "A = np.matrix([3,2,5,2])\n",
    "B = np.matrix([7,4,2,8])"
   ]
  },
  {
   "cell_type": "code",
   "execution_count": 145,
   "metadata": {},
   "outputs": [
    {
     "data": {
      "text/plain": [
       "matrix([[10,  6,  7, 10]])"
      ]
     },
     "execution_count": 145,
     "metadata": {},
     "output_type": "execute_result"
    }
   ],
   "source": [
    "A + B"
   ]
  },
  {
   "cell_type": "code",
   "execution_count": 146,
   "metadata": {},
   "outputs": [
    {
     "data": {
      "text/plain": [
       "matrix([[-4, -2,  3, -6]])"
      ]
     },
     "execution_count": 146,
     "metadata": {},
     "output_type": "execute_result"
    }
   ],
   "source": [
    "A - B"
   ]
  },
  {
   "cell_type": "code",
   "execution_count": 147,
   "metadata": {},
   "outputs": [],
   "source": [
    "## Q82.\n",
    "C = np.random.randint(1,11,(3,2))\n",
    "D = np.random.randint(11,21,(2,4))"
   ]
  },
  {
   "cell_type": "code",
   "execution_count": 148,
   "metadata": {},
   "outputs": [
    {
     "data": {
      "text/plain": [
       "array([[ 73,  58,  88,  87],\n",
       "       [168, 140, 208, 212],\n",
       "       [ 53,  47,  68,  72]])"
      ]
     },
     "execution_count": 148,
     "metadata": {},
     "output_type": "execute_result"
    }
   ],
   "source": [
    "result = np.dot(C , D)\n",
    "result"
   ]
  },
  {
   "cell_type": "code",
   "execution_count": 149,
   "metadata": {},
   "outputs": [
    {
     "data": {
      "text/plain": [
       "array([[8, 9],\n",
       "       [4, 8],\n",
       "       [4, 9]])"
      ]
     },
     "execution_count": 149,
     "metadata": {},
     "output_type": "execute_result"
    }
   ],
   "source": [
    "## Q83.\n",
    "E = np.random.randint(1,11,(3,2))\n",
    "E"
   ]
  },
  {
   "cell_type": "code",
   "execution_count": 150,
   "metadata": {},
   "outputs": [
    {
     "data": {
      "text/plain": [
       "array([[8, 4, 4],\n",
       "       [9, 8, 9]])"
      ]
     },
     "execution_count": 150,
     "metadata": {},
     "output_type": "execute_result"
    }
   ],
   "source": [
    "transpose = E.T\n",
    "transpose"
   ]
  },
  {
   "cell_type": "code",
   "execution_count": 151,
   "metadata": {},
   "outputs": [
    {
     "data": {
      "text/plain": [
       "array([[ 2,  6, 10],\n",
       "       [ 5,  9,  7],\n",
       "       [ 9,  4,  6]])"
      ]
     },
     "execution_count": 151,
     "metadata": {},
     "output_type": "execute_result"
    }
   ],
   "source": [
    "## Q84.\n",
    "F = np.random.randint(1,11,(3,3))\n",
    "F"
   ]
  },
  {
   "cell_type": "code",
   "execution_count": 152,
   "metadata": {},
   "outputs": [
    {
     "data": {
      "text/plain": [
       "-360.00000000000006"
      ]
     },
     "execution_count": 152,
     "metadata": {},
     "output_type": "execute_result"
    }
   ],
   "source": [
    "determinant = np.linalg.det(F)\n",
    "determinant"
   ]
  },
  {
   "cell_type": "code",
   "execution_count": 153,
   "metadata": {},
   "outputs": [
    {
     "data": {
      "text/plain": [
       "array([[ 2,  5,  4],\n",
       "       [10,  4,  8],\n",
       "       [ 7,  2,  4]])"
      ]
     },
     "execution_count": 153,
     "metadata": {},
     "output_type": "execute_result"
    }
   ],
   "source": [
    "## Q85.\n",
    "G = np.random.randint(1,11,(3,3))\n",
    "G"
   ]
  },
  {
   "cell_type": "code",
   "execution_count": 154,
   "metadata": {},
   "outputs": [
    {
     "name": "stdout",
     "output_type": "stream",
     "text": [
      "matrix G [[ 2  5  4]\n",
      " [10  4  8]\n",
      " [ 7  2  4]]\n",
      "inverse_G [[-2.22044605e-17 -2.50000000e-01  5.00000000e-01]\n",
      " [ 3.33333333e-01 -4.16666667e-01  5.00000000e-01]\n",
      " [-1.66666667e-01  6.45833333e-01 -8.75000000e-01]]\n"
     ]
    }
   ],
   "source": [
    "determinant = np.linalg.det(G)\n",
    "if determinant != 0:\n",
    "    invese_G = np.linalg.inv(G)\n",
    "    print(\"matrix G\",G)\n",
    "    print(\"inverse_G\",invese_G)\n",
    "\n",
    "else:\n",
    "    print(\"Matrix G is singular and cannot ve inverted.\")"
   ]
  },
  {
   "cell_type": "code",
   "execution_count": null,
   "metadata": {},
   "outputs": [],
   "source": []
  }
 ],
 "metadata": {
  "kernelspec": {
   "display_name": "Python 3",
   "language": "python",
   "name": "python3"
  },
  "language_info": {
   "codemirror_mode": {
    "name": "ipython",
    "version": 3
   },
   "file_extension": ".py",
   "mimetype": "text/x-python",
   "name": "python",
   "nbconvert_exporter": "python",
   "pygments_lexer": "ipython3",
   "version": "3.12.2"
  }
 },
 "nbformat": 4,
 "nbformat_minor": 2
}
