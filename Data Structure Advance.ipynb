{
 "cells": [
  {
   "cell_type": "markdown",
   "id": "032b3df1-72d7-4e76-a962-57f4c5c8a9c4",
   "metadata": {},
   "source": [
    "# Data Structure AdAssignment"
   ]
  },
  {
   "cell_type": "code",
   "execution_count": 2,
   "id": "fef1acfc-8596-4b30-a7e6-413abe0a20db",
   "metadata": {},
   "outputs": [],
   "source": [
    "## Q1.\n",
    "def rev_string(n):\n",
    "    return n[::-1]"
   ]
  },
  {
   "cell_type": "code",
   "execution_count": 3,
   "id": "e411a7b3-5a11-4db4-bc6f-5ddfe7031737",
   "metadata": {},
   "outputs": [
    {
     "data": {
      "text/plain": [
       "'olleH'"
      ]
     },
     "execution_count": 3,
     "metadata": {},
     "output_type": "execute_result"
    }
   ],
   "source": [
    "rev_string(\"Hello\")"
   ]
  },
  {
   "cell_type": "code",
   "execution_count": 5,
   "id": "95d28d87-eceb-4bc8-99c2-c208edc7569e",
   "metadata": {},
   "outputs": [],
   "source": [
    "## Q2.\n",
    "def count_vowels(n):\n",
    "    count = 0\n",
    "    vowels = 'aeiouAEIOU'\n",
    "    for i in n:\n",
    "        if i in vowels:\n",
    "            count += 1\n",
    "    return count"
   ]
  },
  {
   "cell_type": "code",
   "execution_count": 6,
   "id": "e6306c6e-4fc8-488f-b12e-f918637c229b",
   "metadata": {},
   "outputs": [
    {
     "data": {
      "text/plain": [
       "4"
      ]
     },
     "execution_count": 6,
     "metadata": {},
     "output_type": "execute_result"
    }
   ],
   "source": [
    "count_vowels(\"Hello Mike\")"
   ]
  },
  {
   "cell_type": "code",
   "execution_count": 8,
   "id": "a46a8ece-f3e9-42a0-8999-cea30c3b62f6",
   "metadata": {},
   "outputs": [],
   "source": [
    "## Q3.\n",
    "def check_pallindrome(n):\n",
    "    pallindrome = n[::-1]\n",
    "    if n == pallindrome:\n",
    "        return \"Yes, the given string is pallindrome.\"\n",
    "    else:\n",
    "        return \"No, the given string is not palindrome.\""
   ]
  },
  {
   "cell_type": "code",
   "execution_count": 9,
   "id": "ca9a0b81-9e8e-495e-8478-b8b932c4f927",
   "metadata": {},
   "outputs": [
    {
     "data": {
      "text/plain": [
       "'Yes, the given string is pallindrome.'"
      ]
     },
     "execution_count": 9,
     "metadata": {},
     "output_type": "execute_result"
    }
   ],
   "source": [
    "check_pallindrome(\"madam\")"
   ]
  },
  {
   "cell_type": "code",
   "execution_count": 11,
   "id": "009f9aee-1425-4537-a3fa-4100759654c2",
   "metadata": {},
   "outputs": [],
   "source": [
    "## Q4.\n",
    "def check_anagrams(s1,s2):\n",
    "    return sorted(s1) == sorted(s2)"
   ]
  },
  {
   "cell_type": "code",
   "execution_count": 12,
   "id": "b21c604e-1edc-40c6-a959-8b8e14a65e69",
   "metadata": {},
   "outputs": [
    {
     "data": {
      "text/plain": [
       "True"
      ]
     },
     "execution_count": 12,
     "metadata": {},
     "output_type": "execute_result"
    }
   ],
   "source": [
    "check_anagrams('race','care')"
   ]
  },
  {
   "cell_type": "code",
   "execution_count": 13,
   "id": "23522826-bf09-4b3d-93af-7fc5e067c5e0",
   "metadata": {},
   "outputs": [
    {
     "data": {
      "text/plain": [
       "False"
      ]
     },
     "execution_count": 13,
     "metadata": {},
     "output_type": "execute_result"
    }
   ],
   "source": [
    "check_anagrams('listen','string')"
   ]
  },
  {
   "cell_type": "code",
   "execution_count": 15,
   "id": "2f135ed5-41dd-41ac-bc0d-dcc4b040fc3e",
   "metadata": {},
   "outputs": [],
   "source": [
    "## Q5.\n",
    "def find_occur(s,sub):\n",
    "    return [i for i in range(len(s)) if s.startswith(sub,i)]"
   ]
  },
  {
   "cell_type": "code",
   "execution_count": 16,
   "id": "f9579282-e731-44bc-bccd-c5a54b619221",
   "metadata": {},
   "outputs": [
    {
     "data": {
      "text/plain": [
       "[1, 3]"
      ]
     },
     "execution_count": 16,
     "metadata": {},
     "output_type": "execute_result"
    }
   ],
   "source": [
    "find_occur(\"banana\", \"ana\")"
   ]
  },
  {
   "cell_type": "code",
   "execution_count": 17,
   "id": "c02d2843-dad8-4c9e-a5ff-baa9a15e4d0b",
   "metadata": {},
   "outputs": [
    {
     "data": {
      "text/plain": [
       "[4]"
      ]
     },
     "execution_count": 17,
     "metadata": {},
     "output_type": "execute_result"
    }
   ],
   "source": [
    "find_occur(\"timepass\", \"pas\")"
   ]
  },
  {
   "cell_type": "code",
   "execution_count": 19,
   "id": "453240e8-2145-4da6-9dab-7924883a1226",
   "metadata": {},
   "outputs": [],
   "source": [
    "## Q6.\n",
    "def compress_string(s):\n",
    "    compressed = []\n",
    "    count = 1\n",
    "\n",
    "    for i in range(1, len(s)):\n",
    "        if s[i] == s[i - 1]:\n",
    "            count += 1\n",
    "        else:\n",
    "            compressed.append(s[i - 1] + str(count))\n",
    "            count = 1\n",
    "\n",
    "    compressed.append(s[-1] + str(count))\n",
    "    return ''.join(compressed)"
   ]
  },
  {
   "cell_type": "code",
   "execution_count": 20,
   "id": "27663ca0-ded6-40e7-9e16-9592ce6b9f62",
   "metadata": {},
   "outputs": [
    {
     "name": "stdout",
     "output_type": "stream",
     "text": [
      "a3b1c2d3\n"
     ]
    }
   ],
   "source": [
    "print(compress_string(\"aaabccddd\"))"
   ]
  },
  {
   "cell_type": "code",
   "execution_count": null,
   "id": "5ae9eab3-0f44-4ddc-9c12-0b7b5a705df4",
   "metadata": {},
   "outputs": [],
   "source": []
  },
  {
   "cell_type": "code",
   "execution_count": 22,
   "id": "48ae88d3-5f8e-4d6f-94ea-8c827487ed3d",
   "metadata": {},
   "outputs": [],
   "source": [
    "## Q7.\n",
    "def unique_char(n):\n",
    "    return len(set(n)) == len(n)"
   ]
  },
  {
   "cell_type": "code",
   "execution_count": 23,
   "id": "80056ba7-f198-4634-b364-f9e93d07eb39",
   "metadata": {},
   "outputs": [
    {
     "data": {
      "text/plain": [
       "False"
      ]
     },
     "execution_count": 23,
     "metadata": {},
     "output_type": "execute_result"
    }
   ],
   "source": [
    "unique_char(\"passs\")"
   ]
  },
  {
   "cell_type": "code",
   "execution_count": null,
   "id": "1821c762-4a33-4403-b86a-a10d174b542c",
   "metadata": {},
   "outputs": [],
   "source": []
  },
  {
   "cell_type": "code",
   "execution_count": 25,
   "id": "718ccc0a-3e37-41ea-8b55-1cab496085c0",
   "metadata": {},
   "outputs": [],
   "source": [
    "## Q8.\n",
    "def upper_case(n):\n",
    "    return n.upper()\n",
    "\n",
    "def lower_case(n):\n",
    "    return n.lower()"
   ]
  },
  {
   "cell_type": "code",
   "execution_count": 26,
   "id": "ee3306de-d677-4883-9a6d-5dd22443b775",
   "metadata": {},
   "outputs": [
    {
     "data": {
      "text/plain": [
       "'HELLO'"
      ]
     },
     "execution_count": 26,
     "metadata": {},
     "output_type": "execute_result"
    }
   ],
   "source": [
    "upper_case(\"hello\")"
   ]
  },
  {
   "cell_type": "code",
   "execution_count": 27,
   "id": "2f3b5926-5052-4077-b03e-f372ad5e94cd",
   "metadata": {},
   "outputs": [
    {
     "data": {
      "text/plain": [
       "'hello'"
      ]
     },
     "execution_count": 27,
     "metadata": {},
     "output_type": "execute_result"
    }
   ],
   "source": [
    "lower_case(\"HELLO\")"
   ]
  },
  {
   "cell_type": "code",
   "execution_count": null,
   "id": "17fd52d5-344e-4a7d-8872-32289707e9f8",
   "metadata": {},
   "outputs": [],
   "source": []
  },
  {
   "cell_type": "code",
   "execution_count": 29,
   "id": "912cdbbe-645e-404f-9d35-05af5509d819",
   "metadata": {},
   "outputs": [],
   "source": [
    "## Q9.\n",
    "def num_words(n):\n",
    "    return len(n.split())"
   ]
  },
  {
   "cell_type": "code",
   "execution_count": 30,
   "id": "ae813d1b-4db2-4a22-9022-8b84fb6e84b9",
   "metadata": {},
   "outputs": [
    {
     "data": {
      "text/plain": [
       "2"
      ]
     },
     "execution_count": 30,
     "metadata": {},
     "output_type": "execute_result"
    }
   ],
   "source": [
    "num_words(\"hello world\")"
   ]
  },
  {
   "cell_type": "code",
   "execution_count": null,
   "id": "b32f01d8-7e7e-4a49-b3e8-9bfaa1874f49",
   "metadata": {},
   "outputs": [],
   "source": []
  },
  {
   "cell_type": "code",
   "execution_count": 32,
   "id": "bba69762-919c-4998-a90e-2a28edabf104",
   "metadata": {},
   "outputs": [],
   "source": [
    "## Q10.\n",
    "def concat_strings(s1, s2):\n",
    "    return f\"{s1}{s2}\""
   ]
  },
  {
   "cell_type": "code",
   "execution_count": 33,
   "id": "d0c7d581-5cb5-410c-a884-2c49c5d411f5",
   "metadata": {},
   "outputs": [
    {
     "data": {
      "text/plain": [
       "'HelloWorld'"
      ]
     },
     "execution_count": 33,
     "metadata": {},
     "output_type": "execute_result"
    }
   ],
   "source": [
    "concat_strings(\"Hello\",\"World\")"
   ]
  },
  {
   "cell_type": "code",
   "execution_count": null,
   "id": "35951934-35eb-4977-8f62-9a75a9f1c1a0",
   "metadata": {},
   "outputs": [],
   "source": []
  },
  {
   "cell_type": "code",
   "execution_count": 34,
   "id": "f8c94075-f5cb-4a67-841c-4afc4834c140",
   "metadata": {},
   "outputs": [],
   "source": [
    "## Q11\n",
    "def rem_occur(arg1,n):\n",
    "    return [i for i in arg1 if i != n]"
   ]
  },
  {
   "cell_type": "code",
   "execution_count": 35,
   "id": "530f066f-8df3-4ff3-869d-fd9083d3e185",
   "metadata": {},
   "outputs": [
    {
     "data": {
      "text/plain": [
       "[2, 5, 6, 7, 8]"
      ]
     },
     "execution_count": 35,
     "metadata": {},
     "output_type": "execute_result"
    }
   ],
   "source": [
    "rem_occur([2,3,3,3,3,5,6,7,8] , 3)"
   ]
  },
  {
   "cell_type": "code",
   "execution_count": null,
   "id": "975e3bd7-2f31-4906-a3fa-1035236c07ef",
   "metadata": {},
   "outputs": [],
   "source": []
  },
  {
   "cell_type": "code",
   "execution_count": 36,
   "id": "9f2d1772-450c-4f80-bd58-07b65aab68b6",
   "metadata": {},
   "outputs": [],
   "source": [
    "## Q12\n",
    "def sec_largest(n):\n",
    "    lst = list(set(n))\n",
    "    lst.sort()\n",
    "    return lst[-2]"
   ]
  },
  {
   "cell_type": "code",
   "execution_count": 37,
   "id": "000c1697-1cbf-41a0-8731-69f21ff70789",
   "metadata": {},
   "outputs": [
    {
     "data": {
      "text/plain": [
       "5"
      ]
     },
     "execution_count": 37,
     "metadata": {},
     "output_type": "execute_result"
    }
   ],
   "source": [
    "sec_largest([3,4,2,5,1,6])"
   ]
  },
  {
   "cell_type": "code",
   "execution_count": null,
   "id": "681ee06d-703e-48d2-b6a0-7e2e2ee1c50d",
   "metadata": {},
   "outputs": [],
   "source": []
  },
  {
   "cell_type": "code",
   "execution_count": 38,
   "id": "b45874f4-4f16-45dd-853b-63d65f2a041d",
   "metadata": {},
   "outputs": [],
   "source": [
    "## Q13\n",
    "def count_occur(n):\n",
    "    from collections import Counter\n",
    "    return dict(Counter(n))"
   ]
  },
  {
   "cell_type": "code",
   "execution_count": 39,
   "id": "33cd04ea-afb7-4cee-a652-dc149bb5b669",
   "metadata": {},
   "outputs": [
    {
     "data": {
      "text/plain": [
       "{2: 2, 4: 2, 3: 2, 6: 2, 5: 2, 7: 2, 8: 1}"
      ]
     },
     "execution_count": 39,
     "metadata": {},
     "output_type": "execute_result"
    }
   ],
   "source": [
    "count_occur([2,4,3,6,5,7,4,2,3,5,8,7,6])"
   ]
  },
  {
   "cell_type": "code",
   "execution_count": null,
   "id": "71a0f0be-fb1c-4a08-b0e3-58e33aa867c1",
   "metadata": {},
   "outputs": [],
   "source": []
  },
  {
   "cell_type": "code",
   "execution_count": 40,
   "id": "69d565ea-fc62-435f-9b01-66ad1cec6cba",
   "metadata": {},
   "outputs": [],
   "source": [
    "## Q14\n",
    "def reverse_list(lst):\n",
    "    left, right = 0, len(lst) - 1\n",
    "    while left < right:\n",
    "        lst[left], lst[right] = lst[right], lst[left]\n",
    "        left += 1\n",
    "        right -= 1\n",
    "    return lst\n"
   ]
  },
  {
   "cell_type": "code",
   "execution_count": 41,
   "id": "2683d79b-7d20-41b1-93c1-a07e5b216112",
   "metadata": {},
   "outputs": [
    {
     "data": {
      "text/plain": [
       "[5, 4, 3, 2, 1]"
      ]
     },
     "execution_count": 41,
     "metadata": {},
     "output_type": "execute_result"
    }
   ],
   "source": [
    "reverse_list([1, 2, 3, 4, 5])"
   ]
  },
  {
   "cell_type": "code",
   "execution_count": null,
   "id": "4a1cd985-736f-4ae3-8eba-265aef7d2697",
   "metadata": {},
   "outputs": [],
   "source": []
  },
  {
   "cell_type": "code",
   "execution_count": 42,
   "id": "64f92ff2-b4fd-45be-a552-10ed218315f6",
   "metadata": {},
   "outputs": [],
   "source": [
    "## Q15. \n",
    "def remove_duplicates(lst):\n",
    "    seen = set()\n",
    "    result = []\n",
    "    for item in lst:\n",
    "        if item not in seen:\n",
    "            seen.add(item)\n",
    "            result.append(item)\n",
    "    return result\n"
   ]
  },
  {
   "cell_type": "code",
   "execution_count": 43,
   "id": "c92ebbe4-77a4-4b10-85e2-47768ce7f0a6",
   "metadata": {},
   "outputs": [
    {
     "data": {
      "text/plain": [
       "[1, 2, 3, 4, 5, 7, 8, 9]"
      ]
     },
     "execution_count": 43,
     "metadata": {},
     "output_type": "execute_result"
    }
   ],
   "source": [
    "remove_duplicates([1,2,3,4,3,2,1,5,7,8,5,3,7,9])"
   ]
  },
  {
   "cell_type": "code",
   "execution_count": null,
   "id": "2cd58e2c-5eb9-44c0-9552-203367e08cc7",
   "metadata": {},
   "outputs": [],
   "source": []
  },
  {
   "cell_type": "code",
   "execution_count": 44,
   "id": "603dc989-2639-4b0e-8713-c222320fb85c",
   "metadata": {},
   "outputs": [],
   "source": [
    "## 16.\n",
    "def check_sorted(lst):\n",
    "    return lst==sorted(lst) or lst == sorted(lst,reverse=True)"
   ]
  },
  {
   "cell_type": "code",
   "execution_count": 45,
   "id": "abdc906e-d9e6-4c2f-9df0-e43db2fcce5d",
   "metadata": {},
   "outputs": [
    {
     "data": {
      "text/plain": [
       "True"
      ]
     },
     "execution_count": 45,
     "metadata": {},
     "output_type": "execute_result"
    }
   ],
   "source": [
    "check_sorted([1,2,3,4,5])"
   ]
  },
  {
   "cell_type": "code",
   "execution_count": null,
   "id": "49d101aa-5730-4c16-9069-2a59dabc2d93",
   "metadata": {},
   "outputs": [],
   "source": []
  },
  {
   "cell_type": "code",
   "execution_count": 46,
   "id": "cde679be-36e9-48f7-a5f0-6102980f2c66",
   "metadata": {},
   "outputs": [],
   "source": [
    "## Q17.\n",
    "def merg_sorted_lst(str1,str2):\n",
    "    return sorted(str1+str2)"
   ]
  },
  {
   "cell_type": "code",
   "execution_count": 47,
   "id": "a96b15ae-3914-43f5-89f0-311ae6e1fe76",
   "metadata": {},
   "outputs": [
    {
     "data": {
      "text/plain": [
       "[1, 2, 3, 4, 5, 5, 6, 7, 8, 9]"
      ]
     },
     "execution_count": 47,
     "metadata": {},
     "output_type": "execute_result"
    }
   ],
   "source": [
    "merg_sorted_lst([1,2,3,4,5],[5,6,7,8,9])"
   ]
  },
  {
   "cell_type": "code",
   "execution_count": null,
   "id": "eb126ae1-c828-4767-85d5-22d52fe24a94",
   "metadata": {},
   "outputs": [],
   "source": []
  },
  {
   "cell_type": "code",
   "execution_count": 48,
   "id": "174c1e84-d79d-4d91-9f00-ad097147d681",
   "metadata": {},
   "outputs": [],
   "source": [
    "## Q18.\n",
    "def find_intersection(lst1,lst2):\n",
    "    return list(set(lst1) & set(lst2))"
   ]
  },
  {
   "cell_type": "code",
   "execution_count": 49,
   "id": "58445b17-3a39-488f-afe1-45e6f5b0800d",
   "metadata": {},
   "outputs": [
    {
     "data": {
      "text/plain": [
       "[2, 3]"
      ]
     },
     "execution_count": 49,
     "metadata": {},
     "output_type": "execute_result"
    }
   ],
   "source": [
    "find_intersection([1,2,3],[2,3,4])"
   ]
  },
  {
   "cell_type": "code",
   "execution_count": null,
   "id": "0e9ac75f-d432-4ac0-83f5-e96dfbad29ad",
   "metadata": {},
   "outputs": [],
   "source": []
  },
  {
   "cell_type": "code",
   "execution_count": 50,
   "id": "c2ecd9b7-ced9-40bd-b73f-c7e4f4998fb5",
   "metadata": {},
   "outputs": [],
   "source": [
    "## Q19.\n",
    "def find_union(lst1,lst2):\n",
    "    return list(set(lst1) | set(lst2))"
   ]
  },
  {
   "cell_type": "code",
   "execution_count": 51,
   "id": "b520a366-b824-4bd5-834b-dbf76fffda8e",
   "metadata": {},
   "outputs": [
    {
     "data": {
      "text/plain": [
       "[1, 2, 3, 4, 5, 6]"
      ]
     },
     "execution_count": 51,
     "metadata": {},
     "output_type": "execute_result"
    }
   ],
   "source": [
    "find_union([1,2,3,4],[3,4,5,6])"
   ]
  },
  {
   "cell_type": "code",
   "execution_count": null,
   "id": "421086ca-c501-4e36-a678-3bbe729ffc95",
   "metadata": {},
   "outputs": [],
   "source": []
  },
  {
   "cell_type": "code",
   "execution_count": 52,
   "id": "df52cd68-b8b2-4532-ab21-bdf8ea26c03c",
   "metadata": {},
   "outputs": [],
   "source": [
    "## Q20.\n",
    "import random\n",
    "\n",
    "def shuffle_lst(n):\n",
    "    random.shuffle(n)\n",
    "    return n"
   ]
  },
  {
   "cell_type": "code",
   "execution_count": 53,
   "id": "d8af5770-5671-41fa-b7c0-d9161858af93",
   "metadata": {},
   "outputs": [
    {
     "data": {
      "text/plain": [
       "[5, 6, 1, 3, 2, 7, 4]"
      ]
     },
     "execution_count": 53,
     "metadata": {},
     "output_type": "execute_result"
    }
   ],
   "source": [
    "shuffle_lst([1,2,3,4,5,6,7])"
   ]
  },
  {
   "cell_type": "code",
   "execution_count": null,
   "id": "ac193c21-aa78-43dd-b585-c5b5d41eb5b2",
   "metadata": {},
   "outputs": [],
   "source": []
  },
  {
   "cell_type": "code",
   "execution_count": 54,
   "id": "692f1a7a-39a7-4885-a7a8-161bbb1ee8e4",
   "metadata": {},
   "outputs": [],
   "source": [
    "## Q21.\n",
    "def common_element(lst1,lst2):\n",
    "    return set(lst1) & set(lst2)"
   ]
  },
  {
   "cell_type": "code",
   "execution_count": 55,
   "id": "bda76417-fbf5-4f2c-8dcd-9c3d637204cf",
   "metadata": {},
   "outputs": [
    {
     "data": {
      "text/plain": [
       "{3, 4}"
      ]
     },
     "execution_count": 55,
     "metadata": {},
     "output_type": "execute_result"
    }
   ],
   "source": [
    "common_element((1,2,3,4),(3,4,5,6))"
   ]
  },
  {
   "cell_type": "code",
   "execution_count": null,
   "id": "ef0af1e1-a0d7-4613-85d3-573aef7cb8b1",
   "metadata": {},
   "outputs": [],
   "source": []
  },
  {
   "cell_type": "code",
   "execution_count": 56,
   "id": "21edd1d0-b3a6-4b08-b075-a90977bd0848",
   "metadata": {},
   "outputs": [
    {
     "name": "stdin",
     "output_type": "stream",
     "text": [
      "Enter first set of integers separated by commas:  1,2,3,4,5\n",
      "Enter second set of integers separated by commas:  3,4,5,6,7\n"
     ]
    },
    {
     "name": "stdout",
     "output_type": "stream",
     "text": [
      "{3, 4, 5}\n"
     ]
    }
   ],
   "source": [
    "## Q22.\n",
    "def input_sets():\n",
    "    set1 = set(map(int, input(\"Enter first set of integers separated by commas: \").split(',')))\n",
    "    set2 = set(map(int, input(\"Enter second set of integers separated by commas: \").split(',')))\n",
    "    return set1 & set2\n",
    "\n",
    "print(input_sets())\n"
   ]
  },
  {
   "cell_type": "code",
   "execution_count": null,
   "id": "0d313cca-9690-4004-8c5b-b3ccb3e638e8",
   "metadata": {},
   "outputs": [],
   "source": []
  },
  {
   "cell_type": "code",
   "execution_count": 57,
   "id": "0a528fa4-fc08-4a73-8df5-7c70fbfd6ce6",
   "metadata": {},
   "outputs": [],
   "source": [
    "## Q23\n",
    "def concat_tup(t1,t2):\n",
    "    return t1+t2"
   ]
  },
  {
   "cell_type": "code",
   "execution_count": 58,
   "id": "5a62ae44-bf85-4679-a713-66c9a2c48b32",
   "metadata": {},
   "outputs": [
    {
     "data": {
      "text/plain": [
       "(1, 2, 3, 4, 3, 4, 5, 6)"
      ]
     },
     "execution_count": 58,
     "metadata": {},
     "output_type": "execute_result"
    }
   ],
   "source": [
    "concat_tup((1,2,3,4),(3,4,5,6))"
   ]
  },
  {
   "cell_type": "code",
   "execution_count": null,
   "id": "50338336-3b65-4ee9-afaf-ab31c5889da5",
   "metadata": {},
   "outputs": [],
   "source": []
  },
  {
   "cell_type": "code",
   "execution_count": 59,
   "id": "dea64c74-6229-4cf1-93d7-64aa2ceb114f",
   "metadata": {},
   "outputs": [],
   "source": [
    "## Q24.\n",
    "def print_first_set():\n",
    "    set1 = set(input(\"Enter first set of strings separated by commas: \").split(','))\n",
    "    set2 = set(input(\"Enter second set of strings separated by commas: \").split(','))\n",
    "    return set1 - set2\n"
   ]
  },
  {
   "cell_type": "code",
   "execution_count": 60,
   "id": "d4677f8b-c126-439a-8b4a-afc263e77b5e",
   "metadata": {},
   "outputs": [
    {
     "name": "stdin",
     "output_type": "stream",
     "text": [
      "Enter first set of strings separated by commas:  1,2,3,4,5,6\n",
      "Enter second set of strings separated by commas:  4,5,6,7,8,8\n"
     ]
    },
    {
     "data": {
      "text/plain": [
       "{'1', '2', '3'}"
      ]
     },
     "execution_count": 60,
     "metadata": {},
     "output_type": "execute_result"
    }
   ],
   "source": [
    "print_first_set()"
   ]
  },
  {
   "cell_type": "code",
   "execution_count": null,
   "id": "cb425d00-64b6-4a20-9925-226671531f6c",
   "metadata": {},
   "outputs": [],
   "source": []
  },
  {
   "cell_type": "code",
   "execution_count": 61,
   "id": "34fbd2f4-efd7-448b-a74a-46c918f05c3c",
   "metadata": {},
   "outputs": [],
   "source": [
    "## Q25.\n",
    "def tuple_subset(t, start, end):\n",
    "    return t[start:end+1]\n"
   ]
  },
  {
   "cell_type": "code",
   "execution_count": 62,
   "id": "f06d9224-b519-4ea8-897c-c7dd57e1088d",
   "metadata": {},
   "outputs": [
    {
     "data": {
      "text/plain": [
       "(4, 5, 6, 7)"
      ]
     },
     "execution_count": 62,
     "metadata": {},
     "output_type": "execute_result"
    }
   ],
   "source": [
    "tuple_subset((2,3,4,5,6,7),2,5)"
   ]
  },
  {
   "cell_type": "code",
   "execution_count": null,
   "id": "2c392f8a-f037-41d5-8907-bd5f8e8163ef",
   "metadata": {},
   "outputs": [],
   "source": []
  },
  {
   "cell_type": "code",
   "execution_count": 145,
   "id": "a07662a5-3090-48da-b674-b48f1238f19c",
   "metadata": {},
   "outputs": [],
   "source": [
    "## Q26.\n",
    "def input_sets_union():\n",
    "    set1 = set(input(\"Enter first set of characters separated by commas: \").split(','))\n",
    "    set2 = set(input(\"Enter second set of characters separated by commas: \").split(','))\n",
    "    return set1 | set2"
   ]
  },
  {
   "cell_type": "code",
   "execution_count": 153,
   "id": "436fb9b9-a538-4bf3-a911-1de03886c76c",
   "metadata": {},
   "outputs": [
    {
     "name": "stdin",
     "output_type": "stream",
     "text": [
      "Enter first set of characters separated by commas:  r,a,j,u\n",
      "Enter second set of characters separated by commas:  k,a,j,u\n"
     ]
    },
    {
     "data": {
      "text/plain": [
       "{'a', 'j', 'k', 'r', 'u'}"
      ]
     },
     "execution_count": 153,
     "metadata": {},
     "output_type": "execute_result"
    }
   ],
   "source": [
    "input_sets_union()"
   ]
  },
  {
   "cell_type": "code",
   "execution_count": null,
   "id": "15d63a8f-0758-44fe-8698-fa3581fbc729",
   "metadata": {},
   "outputs": [],
   "source": []
  },
  {
   "cell_type": "code",
   "execution_count": 155,
   "id": "28619063-12e3-4c3d-bce6-1382a85acd80",
   "metadata": {},
   "outputs": [],
   "source": [
    "## Q27.\n",
    "def min_max_tuple(t):\n",
    "    return max(t),min(t)"
   ]
  },
  {
   "cell_type": "code",
   "execution_count": 157,
   "id": "27e17c9d-fc73-40b7-9b41-440209c073b3",
   "metadata": {},
   "outputs": [
    {
     "data": {
      "text/plain": [
       "(9, 1)"
      ]
     },
     "execution_count": 157,
     "metadata": {},
     "output_type": "execute_result"
    }
   ],
   "source": [
    "min_max_tuple((1,2,3,4,5,6,7,8,9))"
   ]
  },
  {
   "cell_type": "code",
   "execution_count": null,
   "id": "a334606f-744d-4161-b359-593ebfbc4664",
   "metadata": {},
   "outputs": [],
   "source": []
  },
  {
   "cell_type": "code",
   "execution_count": 159,
   "id": "72fbc60b-01a9-4040-8b49-bb9e45a5b28e",
   "metadata": {},
   "outputs": [],
   "source": [
    "## Q28.\n",
    "def set_operations(set1 , set2):\n",
    "    return set1 | set2,set1 & set2,set1 - set2"
   ]
  },
  {
   "cell_type": "code",
   "execution_count": 161,
   "id": "3682fad7-a614-4d05-b3f0-4a5b715069fc",
   "metadata": {},
   "outputs": [
    {
     "data": {
      "text/plain": [
       "({1, 2, 3, 4, 5, 6}, {3, 4, 5}, {1, 2})"
      ]
     },
     "execution_count": 161,
     "metadata": {},
     "output_type": "execute_result"
    }
   ],
   "source": [
    "set_operations({1,2,3,4,5} , {3,4,5,6})"
   ]
  },
  {
   "cell_type": "code",
   "execution_count": null,
   "id": "b2bdf501-6102-4328-beac-ce776e7fbf4c",
   "metadata": {},
   "outputs": [],
   "source": []
  },
  {
   "cell_type": "code",
   "execution_count": 163,
   "id": "b700bf5b-d44b-4982-8a05-e5989aed2990",
   "metadata": {},
   "outputs": [],
   "source": [
    "## Q29.\n",
    "def count_element(t,element):\n",
    "    return t.count(element)"
   ]
  },
  {
   "cell_type": "code",
   "execution_count": 165,
   "id": "43f7eb23-cc75-43b0-ba34-aa9c89e5cd71",
   "metadata": {},
   "outputs": [
    {
     "data": {
      "text/plain": [
       "3"
      ]
     },
     "execution_count": 165,
     "metadata": {},
     "output_type": "execute_result"
    }
   ],
   "source": [
    "count_element((2,2,2,1,4,5,6,3,9) ,2)"
   ]
  },
  {
   "cell_type": "code",
   "execution_count": null,
   "id": "664b9bc9-76d6-4481-a33c-e7f4805479c0",
   "metadata": {},
   "outputs": [],
   "source": []
  },
  {
   "cell_type": "code",
   "execution_count": 167,
   "id": "82ca7d7b-e4e9-4fea-934b-504cfc43ae68",
   "metadata": {},
   "outputs": [
    {
     "name": "stdin",
     "output_type": "stream",
     "text": [
      "Enter first set of strings separated by commas:  t,a,r,z,a,n\n",
      "Enter second set of strings separated by commas:  a,z,a,n\n"
     ]
    },
    {
     "name": "stdout",
     "output_type": "stream",
     "text": [
      "{'r', 't'}\n"
     ]
    }
   ],
   "source": [
    "## Q30.\n",
    "def input_sets_symmetric_difference():\n",
    "    set1 = set(input(\"Enter first set of strings separated by commas: \").split(','))\n",
    "    set2 = set(input(\"Enter second set of strings separated by commas: \").split(','))\n",
    "    return set1 ^ set2\n",
    "\n",
    "print(input_sets_symmetric_difference())"
   ]
  },
  {
   "cell_type": "code",
   "execution_count": null,
   "id": "875ed044-4029-454d-be99-809b1cc780e3",
   "metadata": {},
   "outputs": [],
   "source": []
  },
  {
   "cell_type": "code",
   "execution_count": 170,
   "id": "056b18f9-c82b-4b74-97e7-34357b078cea",
   "metadata": {},
   "outputs": [],
   "source": [
    "## Q31.\n",
    "def word_frequency(words):\n",
    "    from collections import Counter\n",
    "    return dict(Counter(words))\n"
   ]
  },
  {
   "cell_type": "code",
   "execution_count": 172,
   "id": "cd252422-6edc-45a7-8e78-f68af6b6d0ea",
   "metadata": {},
   "outputs": [
    {
     "data": {
      "text/plain": [
       "{'apple': 2, 'banana': 2, 'cherry': 3}"
      ]
     },
     "execution_count": 172,
     "metadata": {},
     "output_type": "execute_result"
    }
   ],
   "source": [
    "word_frequency([\"apple\", \"banana\", \"apple\", \"cherry\", \"banana\", \"cherry\", \"cherry\"])"
   ]
  },
  {
   "cell_type": "code",
   "execution_count": null,
   "id": "8293aae7-2201-404b-a1ed-441c378e9ad2",
   "metadata": {},
   "outputs": [],
   "source": []
  },
  {
   "cell_type": "code",
   "execution_count": 174,
   "id": "8ab35401-41da-4c8b-bbec-303ecffa299a",
   "metadata": {},
   "outputs": [],
   "source": [
    "## Q32.\n",
    "def merge_dictionaries(dict1, dict2):\n",
    "    merged = {**dict1}\n",
    "    for key, value in dict2.items():\n",
    "        if key in merged:\n",
    "            merged[key] += value\n",
    "        else:\n",
    "            merged[key] = value\n",
    "    return merged\n"
   ]
  },
  {
   "cell_type": "code",
   "execution_count": 176,
   "id": "90918388-2508-4306-b93c-c725f48e1edd",
   "metadata": {},
   "outputs": [
    {
     "data": {
      "text/plain": [
       "{'a': 1, 'b': 5, 'c': 4}"
      ]
     },
     "execution_count": 176,
     "metadata": {},
     "output_type": "execute_result"
    }
   ],
   "source": [
    "merge_dictionaries({'a': 1, 'b': 2}, {'b': 3, 'c': 4})"
   ]
  },
  {
   "cell_type": "code",
   "execution_count": null,
   "id": "c58f756c-e4a0-4b25-8268-4dc0cd5ab46d",
   "metadata": {},
   "outputs": [],
   "source": []
  },
  {
   "cell_type": "code",
   "execution_count": 178,
   "id": "467d2c32-72bb-4fed-8b8a-947f34200dd2",
   "metadata": {},
   "outputs": [
    {
     "name": "stdout",
     "output_type": "stream",
     "text": [
      "42\n",
      "None\n"
     ]
    }
   ],
   "source": [
    "## Q33.\n",
    "def access_nested_dict(d, keys):\n",
    "    for key in keys:\n",
    "        if isinstance(d, dict) and key in d:\n",
    "            d = d[key]\n",
    "        else:\n",
    "            return None\n",
    "    return d\n",
    "\n",
    "nested_dict = {'a': {'b': {'c': 42}}}\n",
    "print(access_nested_dict(nested_dict, ['a', 'b', 'c']))  \n",
    "print(access_nested_dict(nested_dict, ['a', 'x', 'c'])) "
   ]
  },
  {
   "cell_type": "code",
   "execution_count": null,
   "id": "5805a422-46d3-439d-b98c-8871c8a05dc5",
   "metadata": {},
   "outputs": [],
   "source": []
  },
  {
   "cell_type": "code",
   "execution_count": 180,
   "id": "59b9808d-d35f-4fb6-bbcc-af9865bfb0b1",
   "metadata": {},
   "outputs": [
    {
     "name": "stdout",
     "output_type": "stream",
     "text": [
      "{'b': 1, 'c': 2, 'a': 3}\n"
     ]
    }
   ],
   "source": [
    "## Q34.\n",
    "def sort_dict_by_values(d, descending=False):\n",
    "    return dict(sorted(d.items(), key=lambda item: item[1], reverse=descending))\n",
    "\n",
    "print(sort_dict_by_values({'a': 3, 'b': 1, 'c': 2}))\n"
   ]
  },
  {
   "cell_type": "code",
   "execution_count": null,
   "id": "6d314ffc-7bde-4c23-9ae4-c6b3e2b23317",
   "metadata": {},
   "outputs": [],
   "source": []
  },
  {
   "cell_type": "code",
   "execution_count": 182,
   "id": "82e92f5f-b95b-44ff-85c4-db4298610475",
   "metadata": {},
   "outputs": [
    {
     "name": "stdout",
     "output_type": "stream",
     "text": [
      "{1: ['a', 'c'], 2: ['b']}\n"
     ]
    }
   ],
   "source": [
    "## Q35.\n",
    "def invert_dict(d):\n",
    "    inverted = {}\n",
    "    for key, value in d.items():\n",
    "        if value not in inverted:\n",
    "            inverted[value] = [key]\n",
    "        else:\n",
    "            inverted[value].append(key)\n",
    "    return inverted\n",
    "\n",
    "print(invert_dict({'a': 1, 'b': 2, 'c': 1}))  \n"
   ]
  },
  {
   "cell_type": "code",
   "execution_count": null,
   "id": "ccc7b369-099d-41c3-aa4e-87815ad5d9c4",
   "metadata": {},
   "outputs": [],
   "source": []
  }
 ],
 "metadata": {
  "kernelspec": {
   "display_name": "Python 3 (ipykernel)",
   "language": "python",
   "name": "python3"
  },
  "language_info": {
   "codemirror_mode": {
    "name": "ipython",
    "version": 3
   },
   "file_extension": ".py",
   "mimetype": "text/x-python",
   "name": "python",
   "nbconvert_exporter": "python",
   "pygments_lexer": "ipython3",
   "version": "3.11.7"
  }
 },
 "nbformat": 4,
 "nbformat_minor": 5
}
