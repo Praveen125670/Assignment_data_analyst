{
 "cells": [
  {
   "cell_type": "code",
   "execution_count": null,
   "id": "6c713b05-1d81-48ed-870b-2f1ed90c17b6",
   "metadata": {},
   "outputs": [],
   "source": [
    "Q1 Explain the key features of Python that make it a popular choice for programming."
   ]
  },
  {
   "cell_type": "code",
   "execution_count": null,
   "id": "06acd968-c472-4feb-8f2b-f03459861bbb",
   "metadata": {},
   "outputs": [],
   "source": [
    "Ans :\n",
    "Easy to Learn and Use: Python has a simple and readable syntax, which makes it accessible to beginners.\n",
    "Interpreted Language: Python code is executed line by line, which simplifies debugging and development.\n",
    "Versatile: Python is used in various domains like web development, data science, machine learning, automation,\n",
    "etc.\n",
    "Extensive Libraries and Frameworks: Python has a rich set of libraries and frameworks that facilitate \n",
    "development (e.g., NumPy, pandas, Django, Flask).\n",
    "Community Support: Python has a large and active community that contributes to its development and provides\n",
    "support.\n",
    "Portability: Python code can run on different platforms without requiring any changes."
   ]
  },
  {
   "cell_type": "code",
   "execution_count": null,
   "id": "fc0c7574-8086-492c-9da6-3adbca9775d6",
   "metadata": {},
   "outputs": [],
   "source": []
  },
  {
   "cell_type": "code",
   "execution_count": null,
   "id": "5a823845-2488-466c-ad32-f5735ab0d3dd",
   "metadata": {},
   "outputs": [],
   "source": [
    "Q2. Describe the role of predefined keywords in Python and provide examples of how they are used in a \n",
    "program."
   ]
  },
  {
   "cell_type": "code",
   "execution_count": null,
   "id": "5eb46806-a8d0-4587-9222-9a7cac333088",
   "metadata": {},
   "outputs": [],
   "source": [
    "Ans:\n",
    "Predefined Keywords are reserved words in python that have special meanings and cannot be used as \n",
    "variable names.These keywords are fundamental to the syntax and structure of Python programming.\n",
    "\n",
    "# if, else, and while are predefined keywords\n",
    "if True:\n",
    "    print(\"This is true\")\n",
    "else:\n",
    "    print(\"This is false\")\n",
    "\n",
    "# def is used to define a function\n",
    "def greet(name):\n",
    "    return f\"Hello, {name}!\"\n",
    "\n",
    "print(greet(\"Alice\"))\n",
    "\n",
    "# for is used in a loop\n",
    "for i in range(3):\n",
    "    print(i)\n"
   ]
  },
  {
   "cell_type": "code",
   "execution_count": null,
   "id": "2fbf4ff1-b789-4e02-9a26-b4f417eea465",
   "metadata": {},
   "outputs": [],
   "source": []
  },
  {
   "cell_type": "code",
   "execution_count": null,
   "id": "95b4f804-9ad6-407f-8a9c-8dd076835236",
   "metadata": {},
   "outputs": [],
   "source": [
    "Q3.  Compre and contrast mutable and immutable ob\f",
    "ects in Python with examples."
   ]
  },
  {
   "cell_type": "code",
   "execution_count": null,
   "id": "4902b4d9-20ba-4170-8234-1c1aeae5c31a",
   "metadata": {},
   "outputs": [],
   "source": [
    "Ans: \n",
    "Mutable Objects:\n",
    "Mutable objects can be changed after they are created. Common examples include lists, dictionaries, and sets.\n",
    "\n",
    "my_list = [1, 2, 3]\n",
    "my_list.append(4)   # Modifies the original list\n",
    "print(my_list)      # Output: [1, 2, 3, 4]\n",
    "\n",
    "my_dict = {\"a\": 1, \"b\": 2}\n",
    "my_dict[\"c\"] = 3    # Modifies the original dictionary\n",
    "print(my_dict)      # Output: {'a': 1, 'b': 2, 'c': 3}\n",
    "\n",
    "Immutable Objects:\n",
    "Immutable objects cannot be changed after they are created. Common examples include integers, floats, strings, \n",
    "and tuples.\n",
    "\n",
    "my_string = \"hello\"\n",
    "new_string = my_string + \" world\"  # Creates a new string\n",
    "print(my_string)   # Output: hello\n",
    "print(new_string)  # Output: hello world\n",
    "\n",
    "my_tuple = (1, 2, 3)\n",
    "new_tuple = my_tuple + (4, 5)  # Creates a new tuple\n",
    "print(my_tuple)    # Output: (1, 2, 3)\n",
    "print(new_tuple)   # Output: (1, 2, 3, 4, 5)\n"
   ]
  },
  {
   "cell_type": "code",
   "execution_count": null,
   "id": "335aeed5-438e-4a77-83ea-7db1b56f94da",
   "metadata": {},
   "outputs": [],
   "source": []
  },
  {
   "cell_type": "code",
   "execution_count": null,
   "id": "7a362b54-fdb6-432c-bfa7-77b1ede21606",
   "metadata": {},
   "outputs": [],
   "source": [
    "Q4. Discuss the different types of operators in Python and provide examples of how they are used."
   ]
  },
  {
   "cell_type": "code",
   "execution_count": null,
   "id": "c144a644-3d67-481f-9e7e-d9f4e786b509",
   "metadata": {},
   "outputs": [],
   "source": [
    "Ans:\n",
    "Arithmetic Operators: Perform mathematical operations.\n",
    "a + b, a - b, a * b, a / b, a % b, a ** b, a // b\n",
    "\n",
    "Comparison Operators: Compare two values.\n",
    "a == b, a != b, a > b, a < b, a >= b, a <= b\n",
    "\n",
    "Logical Operators: Combine conditional statements.\n",
    "a && b, a || b, ! a\n",
    "\n",
    "Bitwise Operators: Perform bit-level operations.\n",
    "a & b, a | b, a ^ b, ~a, a << b, a >> b\n",
    "    \n",
    "Assignment Operators: Assign values to variables.\n",
    "a = b, a += b, a -= b, a *= b, a /= b, a %= b, a **= b, a //= b\n",
    "\n",
    "Identity Operators: Compare objects' memory locations.\n",
    "a is b, a is not b\n",
    "\n",
    "Membership Operators: Test for membership in a sequence.\n",
    "a in b, a not in b\n"
   ]
  },
  {
   "cell_type": "code",
   "execution_count": null,
   "id": "e8dbd7b0-1928-4df1-bb1d-8b0ea4bab7f1",
   "metadata": {},
   "outputs": [],
   "source": []
  },
  {
   "cell_type": "code",
   "execution_count": null,
   "id": "b2311ddd-3b3d-4b70-af82-c4042c89bf5f",
   "metadata": {},
   "outputs": [],
   "source": [
    "Q5. Explain the concept of type casting in Python with examples."
   ]
  },
  {
   "cell_type": "code",
   "execution_count": null,
   "id": "f16febb4-0bec-4b4f-9642-e9e8854f0883",
   "metadata": {},
   "outputs": [],
   "source": [
    "Ans:\n",
    "Type Casting:\n",
    "Type casting is converting a variable from one data type to another. Python provides built-in functions for type\n",
    "casting.\n",
    "\n",
    "# Integer to float\n",
    "num = 10\n",
    "print(float(num))  # Output: 10.0\n",
    "\n",
    "# Float to integer\n",
    "num = 10.5\n",
    "print(int(num))    # Output: 10\n",
    "\n",
    "# String to integer\n",
    "num_str = \"123\"\n",
    "print(int(num_str))  # Output: 123\n",
    "\n",
    "# Integer to string\n",
    "num = 123\n",
    "print(str(num))      # Output: \"123\"\n"
   ]
  },
  {
   "cell_type": "code",
   "execution_count": null,
   "id": "e1c773ac-78c3-4fc3-a619-bef4c4a5652c",
   "metadata": {},
   "outputs": [],
   "source": []
  },
  {
   "cell_type": "code",
   "execution_count": null,
   "id": "b675ea21-4d3e-4e54-8b3d-b5a7e07ac4b4",
   "metadata": {},
   "outputs": [],
   "source": [
    "Q6. How do conditional statements work in Python? Illustrate with examples."
   ]
  },
  {
   "cell_type": "code",
   "execution_count": null,
   "id": "f2ad2f15-6ec0-4cc5-bb19-b13f5de336a1",
   "metadata": {},
   "outputs": [],
   "source": [
    "Ans:\n",
    "Conditional Statements:\n",
    "Conditional statements allow you to execute certain pieces of code based on whether a condition is true or false.\n",
    "\n",
    "# if statement\n",
    "x = 10\n",
    "if x > 5:\n",
    "    print(\"x is greater than 5\")\n",
    "\n",
    "# if-else statement\n",
    "x = 3\n",
    "if x > 5:\n",
    "    print(\"x is greater than 5\")\n",
    "else:\n",
    "    print(\"x is not greater than 5\")\n",
    "\n",
    "# if-elif-else statement\n",
    "x = 10\n",
    "if x > 15:\n",
    "    print(\"x is greater than 15\")\n",
    "elif x == 10:\n",
    "    print(\"x is 10\")\n",
    "else:\n",
    "    print(\"x is less than 10\")\n"
   ]
  },
  {
   "cell_type": "code",
   "execution_count": null,
   "id": "9903bd50-914e-45a0-83f3-184ab9c50245",
   "metadata": {},
   "outputs": [],
   "source": []
  },
  {
   "cell_type": "code",
   "execution_count": null,
   "id": "e8e21660-f38d-4583-a275-9dc3138c24d7",
   "metadata": {},
   "outputs": [],
   "source": [
    "Q7. Describe the different types of loops in Python and their use cases with examples."
   ]
  },
  {
   "cell_type": "code",
   "execution_count": null,
   "id": "92ed8b84-0a2a-48e5-951d-d54a39cee3fd",
   "metadata": {},
   "outputs": [],
   "source": [
    "Ans:\n",
    "Types of Loops:\n",
    "\n",
    "For Loop: Iterates over a sequence (such as a list, tuple, dictionary, set, or string).\n",
    "for i in range(5):\n",
    "    print(i)  # Output: 0 1 2 3 4\n",
    "\n",
    "for char in \"hello\":\n",
    "    print(char)  # Output: h e l l o\n",
    "\n",
    "While Loop: Repeats as long as a condition is true.\n",
    "count = 0\n",
    "while count < 5:\n",
    "    print(count)\n",
    "    count += 1  # Output: 0 1 2 3 4\n",
    "\n",
    "Nested Loops: You can nest loops inside each other.\n",
    "for i in range(3):\n",
    "    for j in range(2):\n",
    "        print(f\"i = {i}, j = {j}\")\n"
   ]
  },
  {
   "cell_type": "code",
   "execution_count": null,
   "id": "d231772a-395d-4001-bb03-f4d031c642a6",
   "metadata": {},
   "outputs": [],
   "source": []
  }
 ],
 "metadata": {
  "kernelspec": {
   "display_name": "Python 3 (ipykernel)",
   "language": "python",
   "name": "python3"
  },
  "language_info": {
   "codemirror_mode": {
    "name": "ipython",
    "version": 3
   },
   "file_extension": ".py",
   "mimetype": "text/x-python",
   "name": "python",
   "nbconvert_exporter": "python",
   "pygments_lexer": "ipython3",
   "version": "3.11.7"
  }
 },
 "nbformat": 4,
 "nbformat_minor": 5
}
