{
 "cells": [
  {
   "cell_type": "markdown",
   "id": "e6b4b289-c08c-4bea-a5ba-d96ca08aa631",
   "metadata": {},
   "source": [
    "# Data Structure Basic Assignment"
   ]
  },
  {
   "cell_type": "code",
   "execution_count": 1,
   "id": "592a2b08-e977-4ea3-836e-28bc028d1be7",
   "metadata": {},
   "outputs": [
    {
     "data": {
      "text/plain": [
       "'Praveen Pandey'"
      ]
     },
     "execution_count": 1,
     "metadata": {},
     "output_type": "execute_result"
    }
   ],
   "source": [
    "#Q1. Discuss string slicing and provide examples. \n",
    "s = \"Praveen Pandey\"\n",
    "s"
   ]
  },
  {
   "cell_type": "code",
   "execution_count": 2,
   "id": "ff6500a5-ce2b-4ca7-8acd-4d27e660c8cb",
   "metadata": {},
   "outputs": [
    {
     "data": {
      "text/plain": [
       "'Prave'"
      ]
     },
     "execution_count": 2,
     "metadata": {},
     "output_type": "execute_result"
    }
   ],
   "source": [
    "s[0:5]"
   ]
  },
  {
   "cell_type": "code",
   "execution_count": 3,
   "id": "79543cd1-9202-4346-a383-2e269ebd608c",
   "metadata": {},
   "outputs": [
    {
     "data": {
      "text/plain": [
       "'y'"
      ]
     },
     "execution_count": 3,
     "metadata": {},
     "output_type": "execute_result"
    }
   ],
   "source": [
    "s[-1]"
   ]
  },
  {
   "cell_type": "markdown",
   "id": "e822782f-eec0-4fc8-8c97-3869be12605e",
   "metadata": {},
   "source": [
    "String slicing helps to access a substring of string by specifying a range."
   ]
  },
  {
   "cell_type": "code",
   "execution_count": null,
   "id": "d4d95779-6032-449a-ad3f-8d776397828c",
   "metadata": {},
   "outputs": [],
   "source": []
  },
  {
   "cell_type": "code",
   "execution_count": 5,
   "id": "36de78c2-8187-4cf5-9f43-778d891e241c",
   "metadata": {},
   "outputs": [],
   "source": [
    "#Q2. Explain the key features of lists in python."
   ]
  },
  {
   "cell_type": "code",
   "execution_count": 6,
   "id": "d8b42a7e-e141-4183-bd12-b32c51933418",
   "metadata": {},
   "outputs": [],
   "source": [
    "# 1. Lists are ordered collections of items\n",
    "# 2. They are mutable (means we can make changes)\n",
    "# 3. They can contain items of different data types"
   ]
  },
  {
   "cell_type": "code",
   "execution_count": 7,
   "id": "30056d4c-f638-44c6-a420-c15d608f579d",
   "metadata": {},
   "outputs": [
    {
     "data": {
      "text/plain": [
       "['Pawan', 'Raju', 'ajay']"
      ]
     },
     "execution_count": 7,
     "metadata": {},
     "output_type": "execute_result"
    }
   ],
   "source": [
    "l=[\"Pawan\" , \"Raju\" , \"ajay\"]\n",
    "l"
   ]
  },
  {
   "cell_type": "code",
   "execution_count": null,
   "id": "9dba5bf7-0102-43b1-be75-9494233fa17c",
   "metadata": {},
   "outputs": [],
   "source": []
  },
  {
   "cell_type": "code",
   "execution_count": 8,
   "id": "996a525e-bd4e-4c39-8b17-9213959ac5a4",
   "metadata": {},
   "outputs": [],
   "source": [
    "#Q3. Describe how to access, modify , and delete elements in a list with examples."
   ]
  },
  {
   "cell_type": "code",
   "execution_count": 9,
   "id": "a8a9a534-5131-42e9-8c24-f4c7b8118cc0",
   "metadata": {},
   "outputs": [
    {
     "data": {
      "text/plain": [
       "'Pawan'"
      ]
     },
     "execution_count": 9,
     "metadata": {},
     "output_type": "execute_result"
    }
   ],
   "source": [
    "# Acessing:\n",
    "l[0]"
   ]
  },
  {
   "cell_type": "code",
   "execution_count": 10,
   "id": "ed886693-cc72-45b0-9bd6-e4fcdfde8ebe",
   "metadata": {},
   "outputs": [
    {
     "data": {
      "text/plain": [
       "['Pawan', 'Rajat', 'ajay']"
      ]
     },
     "execution_count": 10,
     "metadata": {},
     "output_type": "execute_result"
    }
   ],
   "source": [
    "# Modifying\n",
    "l[1] = \"Rajat\"\n",
    "l"
   ]
  },
  {
   "cell_type": "code",
   "execution_count": 11,
   "id": "b17d8615-4760-4689-9787-605a8e9a6ded",
   "metadata": {},
   "outputs": [
    {
     "data": {
      "text/plain": [
       "['Pawan', 'Rajat']"
      ]
     },
     "execution_count": 11,
     "metadata": {},
     "output_type": "execute_result"
    }
   ],
   "source": [
    "# Deleting\n",
    "del l[2]\n",
    "l"
   ]
  },
  {
   "cell_type": "code",
   "execution_count": 12,
   "id": "80a796d2-21a4-4488-a3ec-7c4b7d86a87f",
   "metadata": {},
   "outputs": [],
   "source": [
    "#Q4. Compare and contrast tuples and lists with examples."
   ]
  },
  {
   "cell_type": "code",
   "execution_count": 13,
   "id": "67d6e95f-99bf-4a96-ab17-9e600d5bd1bd",
   "metadata": {},
   "outputs": [
    {
     "data": {
      "text/plain": [
       "('Mango', 'Banana', 'Gauva')"
      ]
     },
     "execution_count": 13,
     "metadata": {},
     "output_type": "execute_result"
    }
   ],
   "source": [
    "# Tuples : These are immutable and have fixed length\n",
    "fruits = (\"Mango\",\"Banana\",\"Gauva\")\n",
    "fruits"
   ]
  },
  {
   "cell_type": "code",
   "execution_count": 14,
   "id": "73bf5481-81eb-489e-9b85-4491e14ee3a9",
   "metadata": {},
   "outputs": [
    {
     "ename": "AttributeError",
     "evalue": "'tuple' object has no attribute 'append'",
     "output_type": "error",
     "traceback": [
      "\u001b[1;31m---------------------------------------------------------------------------\u001b[0m",
      "\u001b[1;31mAttributeError\u001b[0m                            Traceback (most recent call last)",
      "Cell \u001b[1;32mIn[14], line 1\u001b[0m\n\u001b[1;32m----> 1\u001b[0m fruits\u001b[38;5;241m.\u001b[39mappend(\u001b[38;5;124m\"\u001b[39m\u001b[38;5;124mPineapple\u001b[39m\u001b[38;5;124m\"\u001b[39m)\n",
      "\u001b[1;31mAttributeError\u001b[0m: 'tuple' object has no attribute 'append'"
     ]
    }
   ],
   "source": [
    "fruits.append(\"Pineapple\")"
   ]
  },
  {
   "cell_type": "code",
   "execution_count": 15,
   "id": "07e8e66a-97ef-4fa5-9bf3-a4a6fdef58fb",
   "metadata": {},
   "outputs": [
    {
     "data": {
      "text/plain": [
       "['Tiger', 'Lion', 'Leopard']"
      ]
     },
     "execution_count": 15,
     "metadata": {},
     "output_type": "execute_result"
    }
   ],
   "source": [
    "# Lists : These are mutable and sizes can be dynamic\n",
    "Animal = [\"Tiger\" , \"Lion\" , \"Leopard\"]\n",
    "Animal"
   ]
  },
  {
   "cell_type": "code",
   "execution_count": 17,
   "id": "d21c7847-33b4-474a-bfe8-cf62210cb014",
   "metadata": {},
   "outputs": [
    {
     "data": {
      "text/plain": [
       "['Tiger', 'Lion', 'Leopard', 'Elephant']"
      ]
     },
     "execution_count": 17,
     "metadata": {},
     "output_type": "execute_result"
    }
   ],
   "source": [
    "Animal.append(\"Elephant\")\n",
    "Animal"
   ]
  },
  {
   "cell_type": "code",
   "execution_count": null,
   "id": "66527066-ba8f-4750-9e4d-839d850a0b34",
   "metadata": {},
   "outputs": [],
   "source": []
  },
  {
   "cell_type": "code",
   "execution_count": 20,
   "id": "b13d0728-a2f9-4205-abce-007eaae23322",
   "metadata": {},
   "outputs": [
    {
     "data": {
      "text/plain": [
       "{2, 5, 6, 7, 8}"
      ]
     },
     "execution_count": 20,
     "metadata": {},
     "output_type": "execute_result"
    }
   ],
   "source": [
    "# Q5. Describe the key features of sets and provide examples of their use.\n",
    "# Unordered collections of unique items.\n",
    "# duplicate items can't stored.It always have unique items.\n",
    "# It can also sort the value sometimes.\n",
    "num = {5,6,2,5,7,8,2}\n",
    "num"
   ]
  },
  {
   "cell_type": "code",
   "execution_count": null,
   "id": "cf53abe8-1a57-4a71-ad36-e78a93f92c39",
   "metadata": {},
   "outputs": [],
   "source": []
  },
  {
   "cell_type": "code",
   "execution_count": 23,
   "id": "c1c7093e-7ab5-43a4-8d28-93ce62895e31",
   "metadata": {},
   "outputs": [
    {
     "data": {
      "text/plain": [
       "(2, 5, 8, 9)"
      ]
     },
     "execution_count": 23,
     "metadata": {},
     "output_type": "execute_result"
    }
   ],
   "source": [
    "#Q6. Use cases of tuples and sets in python programming.\n",
    "# tuples are useful of storing fixeed size of the data or items. \n",
    "t = (2,5,8,9)\n",
    "t"
   ]
  },
  {
   "cell_type": "code",
   "execution_count": 25,
   "id": "475cd2d2-b96a-40cb-8028-87eb5bd87fcd",
   "metadata": {},
   "outputs": [
    {
     "data": {
      "text/plain": [
       "{2}"
      ]
     },
     "execution_count": 25,
     "metadata": {},
     "output_type": "execute_result"
    }
   ],
   "source": [
    "# sets helps to store unique values only and also used for membership testing and operations\n",
    "# like union , intersection and difference.\n",
    "A = {5,2,7,2}\n",
    "B = {2,8,3,9}\n",
    "A & B"
   ]
  },
  {
   "cell_type": "code",
   "execution_count": null,
   "id": "a0b106a8-9585-4358-a105-a72c3b07a56d",
   "metadata": {},
   "outputs": [],
   "source": []
  },
  {
   "cell_type": "code",
   "execution_count": 28,
   "id": "ba4dd197-3377-468f-82bb-3265d183bc81",
   "metadata": {},
   "outputs": [
    {
     "data": {
      "text/plain": [
       "{'name': 'Praveen', 'age': 24, 'grade': 'A'}"
      ]
     },
     "execution_count": 28,
     "metadata": {},
     "output_type": "execute_result"
    }
   ],
   "source": [
    "#Q7. Describe how to add , modify and delete items in a dictionary with examples.\n",
    "# Adding\n",
    "student = {\"name\" : \"Praveen\", \"age\": 24}\n",
    "student[\"grade\"] = \"A\"\n",
    "student"
   ]
  },
  {
   "cell_type": "code",
   "execution_count": 30,
   "id": "88def0a4-d2f7-4e4a-a4c7-b3887551641d",
   "metadata": {},
   "outputs": [
    {
     "data": {
      "text/plain": [
       "{'name': 'Praveen', 'age': 23, 'grade': 'A'}"
      ]
     },
     "execution_count": 30,
     "metadata": {},
     "output_type": "execute_result"
    }
   ],
   "source": [
    "# Modifying \n",
    "student[\"age\"] = 23\n",
    "student"
   ]
  },
  {
   "cell_type": "code",
   "execution_count": 32,
   "id": "5fe8b21d-45f1-4913-a3ca-37e26e2660ab",
   "metadata": {},
   "outputs": [
    {
     "data": {
      "text/plain": [
       "{'name': 'Praveen', 'age': 23}"
      ]
     },
     "execution_count": 32,
     "metadata": {},
     "output_type": "execute_result"
    }
   ],
   "source": [
    "# Deleting\n",
    "del student[\"grade\"]\n",
    "student"
   ]
  },
  {
   "cell_type": "code",
   "execution_count": null,
   "id": "69315058-d538-4a62-aa5c-5354a52c67fc",
   "metadata": {},
   "outputs": [],
   "source": []
  },
  {
   "cell_type": "code",
   "execution_count": 35,
   "id": "09daf16e-55e4-43da-97f8-d7c094b53a81",
   "metadata": {},
   "outputs": [
    {
     "ename": "TypeError",
     "evalue": "unhashable type: 'list'",
     "output_type": "error",
     "traceback": [
      "\u001b[1;31m---------------------------------------------------------------------------\u001b[0m",
      "\u001b[1;31mTypeError\u001b[0m                                 Traceback (most recent call last)",
      "Cell \u001b[1;32mIn[35], line 2\u001b[0m\n\u001b[0;32m      1\u001b[0m \u001b[38;5;66;03m#Q8. Discuss the importance of dictionary keys being immutable and provide examples.\u001b[39;00m\n\u001b[1;32m----> 2\u001b[0m d \u001b[38;5;241m=\u001b[39m {[\u001b[38;5;241m1\u001b[39m, \u001b[38;5;241m2\u001b[39m, \u001b[38;5;241m3\u001b[39m]: \u001b[38;5;124m\"\u001b[39m\u001b[38;5;124mabc\u001b[39m\u001b[38;5;124m\"\u001b[39m}\n",
      "\u001b[1;31mTypeError\u001b[0m: unhashable type: 'list'"
     ]
    }
   ],
   "source": [
    "#Q8. Discuss the importance of dictionary keys being immutable and provide examples.\n",
    "d = {[1, 2, 3]: \"abc\"}"
   ]
  },
  {
   "cell_type": "code",
   "execution_count": 37,
   "id": "46848691-8611-4f8e-9cdf-643c600db4cc",
   "metadata": {},
   "outputs": [
    {
     "ename": "TypeError",
     "evalue": "unhashable type: 'set'",
     "output_type": "error",
     "traceback": [
      "\u001b[1;31m---------------------------------------------------------------------------\u001b[0m",
      "\u001b[1;31mTypeError\u001b[0m                                 Traceback (most recent call last)",
      "Cell \u001b[1;32mIn[37], line 1\u001b[0m\n\u001b[1;32m----> 1\u001b[0m d \u001b[38;5;241m=\u001b[39m {{\u001b[38;5;241m1\u001b[39m, \u001b[38;5;241m2\u001b[39m,\u001b[38;5;241m3\u001b[39m}: \u001b[38;5;124m\"\u001b[39m\u001b[38;5;124mcde\u001b[39m\u001b[38;5;124m\"\u001b[39m}\n",
      "\u001b[1;31mTypeError\u001b[0m: unhashable type: 'set'"
     ]
    }
   ],
   "source": [
    "d = {{1, 2,3}: \"cde\"}"
   ]
  },
  {
   "cell_type": "code",
   "execution_count": 39,
   "id": "a53731e5-135c-4435-aabc-069a77d68dba",
   "metadata": {},
   "outputs": [
    {
     "data": {
      "text/plain": [
       "{(1, 2, 3): 'abc'}"
      ]
     },
     "execution_count": 39,
     "metadata": {},
     "output_type": "execute_result"
    }
   ],
   "source": [
    "d = {(1,2,3):\"abc\"}\n",
    "d"
   ]
  },
  {
   "cell_type": "code",
   "execution_count": 41,
   "id": "1422aa24-4fb6-4f5f-8bd5-b92a4523ef91",
   "metadata": {},
   "outputs": [],
   "source": [
    "# it is necessary to have dictionary keys must be immutable(eg.strings,numbers,tuples) \n",
    "# because the dictionary values are stored in as hashable format and the value should \n",
    "# be consistent."
   ]
  },
  {
   "cell_type": "code",
   "execution_count": null,
   "id": "564256d8-736b-4c2b-a824-8f3294b2fc63",
   "metadata": {},
   "outputs": [],
   "source": []
  }
 ],
 "metadata": {
  "kernelspec": {
   "display_name": "Python 3 (ipykernel)",
   "language": "python",
   "name": "python3"
  },
  "language_info": {
   "codemirror_mode": {
    "name": "ipython",
    "version": 3
   },
   "file_extension": ".py",
   "mimetype": "text/x-python",
   "name": "python",
   "nbconvert_exporter": "python",
   "pygments_lexer": "ipython3",
   "version": "3.11.7"
  }
 },
 "nbformat": 4,
 "nbformat_minor": 5
}
